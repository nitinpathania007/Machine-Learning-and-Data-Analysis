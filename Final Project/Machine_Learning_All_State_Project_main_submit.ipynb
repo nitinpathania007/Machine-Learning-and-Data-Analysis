{
  "nbformat": 4,
  "nbformat_minor": 0,
  "metadata": {
    "kernelspec": {
      "name": "python3",
      "display_name": "Python 3"
    },
    "colab": {
      "name": "Machine_Learning_All_State_Project_main_submit.ipynb",
      "provenance": [],
      "collapsed_sections": [],
      "toc_visible": true
    },
    "accelerator": "TPU"
  },
  "cells": [
    {
      "cell_type": "markdown",
      "metadata": {
        "id": "AdEzbheAGzcE",
        "colab_type": "text"
      },
      "source": [
        "# Allstate Claims Severity "
      ]
    },
    {
      "cell_type": "markdown",
      "metadata": {
        "id": "ZEBVVEwTGzcF",
        "colab_type": "text"
      },
      "source": [
        "## Data Exploration, Cleaning and Visualizations of Dataset"
      ]
    },
    {
      "cell_type": "markdown",
      "metadata": {
        "id": "CWO0MuXsGzcG",
        "colab_type": "text"
      },
      "source": [
        "The Allstate Corporation is the largest personal lines insurer in the United States and the largest that is publicly held. Due to its large size, they have to tackle a large number of claims which takes time done by a human.\n",
        "Allstate is currently developing automated methods of predicting the cost, and hence severity, of claims. The problem is to create an algorithm which accurately predicts claims severity. Basically, given the data , predict the amount to be paid by Allstate.\n"
      ]
    },
    {
      "cell_type": "code",
      "metadata": {
        "id": "dHG2p1p7GzcH",
        "colab_type": "code",
        "colab": {}
      },
      "source": [
        "# Supress unnecessary warnings so that presentation looks clean\n",
        "import warnings\n",
        "warnings.filterwarnings('ignore')"
      ],
      "execution_count": 0,
      "outputs": []
    },
    {
      "cell_type": "markdown",
      "metadata": {
        "id": "KOoBvVSDGzcN",
        "colab_type": "text"
      },
      "source": [
        "## Importing the libraries"
      ]
    },
    {
      "cell_type": "markdown",
      "metadata": {
        "id": "ZIST5ZS7GzcO",
        "colab_type": "text"
      },
      "source": [
        "Now, we import the libraries which are required for EDA and extract the data."
      ]
    },
    {
      "cell_type": "code",
      "metadata": {
        "id": "Q2Lu_OW3GzcP",
        "colab_type": "code",
        "colab": {}
      },
      "source": [
        "import pandas                                      #to read and manipulate data\n",
        "import zipfile                                     #to extract data\n",
        "import numpy as np                                 #for matrix operations\n",
        "#read will be imported as and when required\n",
        "#read the train and test zip file\n",
        "zip_ref = zipfile.ZipFile(\"train.csv.zip\", 'r')    \n",
        "zip_ref.extractall()                               \n",
        "zip_ref.close()"
      ],
      "execution_count": 0,
      "outputs": []
    },
    {
      "cell_type": "markdown",
      "metadata": {
        "id": "vDGsVSbwGzcS",
        "colab_type": "text"
      },
      "source": [
        "## Reading the data"
      ]
    },
    {
      "cell_type": "markdown",
      "metadata": {
        "id": "eN9cNbjxGzcT",
        "colab_type": "text"
      },
      "source": [
        "Now, we read the training and testing data in pandas objects"
      ]
    },
    {
      "cell_type": "code",
      "metadata": {
        "id": "y0GRyOB9GzcT",
        "colab_type": "code",
        "outputId": "06dd0a3a-37fc-4f85-e955-0fa700469fa3",
        "colab": {
          "base_uri": "https://localhost:8080/",
          "height": 1000
        }
      },
      "source": [
        "train_data = pandas.read_csv(\"train.csv\",error_bad_lines=False)\n",
        "\n",
        "#Print all rows and columns. Dont hide any\n",
        "pandas.set_option('display.max_rows', None)\n",
        "pandas.set_option('display.max_columns', None)\n",
        "\n",
        "print(train_data.head(5))"
      ],
      "execution_count": 3,
      "outputs": [
        {
          "output_type": "stream",
          "text": [
            "   id cat1 cat2 cat3 cat4 cat5 cat6 cat7 cat8 cat9 cat10 cat11 cat12 cat13  \\\n",
            "0   1    A    B    A    B    A    A    A    A    B     A     B     A     A   \n",
            "1   2    A    B    A    A    A    A    A    A    B     B     A     A     A   \n",
            "2   5    A    B    A    A    B    A    A    A    B     B     B     B     B   \n",
            "3  10    B    B    A    B    A    A    A    A    B     A     A     A     A   \n",
            "4  11    A    B    A    B    A    A    A    A    B     B     A     B     A   \n",
            "\n",
            "  cat14 cat15 cat16 cat17 cat18 cat19 cat20 cat21 cat22 cat23 cat24 cat25  \\\n",
            "0     A     A     A     A     A     A     A     A     A     B     A     A   \n",
            "1     A     A     A     A     A     A     A     A     A     A     A     A   \n",
            "2     A     A     A     A     A     A     A     A     A     A     A     A   \n",
            "3     A     A     A     A     A     A     A     A     A     B     A     A   \n",
            "4     A     A     A     A     A     A     A     A     A     B     A     A   \n",
            "\n",
            "  cat26 cat27 cat28 cat29 cat30 cat31 cat32 cat33 cat34 cat35 cat36 cat37  \\\n",
            "0     A     A     A     A     A     A     A     A     A     A     A     A   \n",
            "1     A     A     A     A     A     A     A     A     A     A     A     A   \n",
            "2     A     A     A     A     A     A     A     A     A     A     B     A   \n",
            "3     A     A     A     A     A     A     A     A     A     A     A     A   \n",
            "4     A     A     A     A     A     A     A     A     A     A     A     A   \n",
            "\n",
            "  cat38 cat39 cat40 cat41 cat42 cat43 cat44 cat45 cat46 cat47 cat48 cat49  \\\n",
            "0     A     A     A     A     A     A     A     A     A     A     A     A   \n",
            "1     A     A     A     A     A     A     A     A     A     A     A     A   \n",
            "2     A     A     A     A     A     A     A     A     A     A     A     A   \n",
            "3     A     A     A     A     A     A     A     A     A     A     A     A   \n",
            "4     A     A     A     A     A     A     A     A     A     A     A     A   \n",
            "\n",
            "  cat50 cat51 cat52 cat53 cat54 cat55 cat56 cat57 cat58 cat59 cat60 cat61  \\\n",
            "0     A     A     A     A     A     A     A     A     A     A     A     A   \n",
            "1     A     A     A     A     A     A     A     A     A     A     A     A   \n",
            "2     A     A     A     A     A     A     A     A     A     A     A     A   \n",
            "3     A     A     A     A     A     A     A     A     A     A     A     A   \n",
            "4     A     A     A     A     A     A     A     A     A     A     A     A   \n",
            "\n",
            "  cat62 cat63 cat64 cat65 cat66 cat67 cat68 cat69 cat70 cat71 cat72 cat73  \\\n",
            "0     A     A     A     A     A     A     A     A     A     A     A     A   \n",
            "1     A     A     A     A     A     A     A     A     A     A     A     A   \n",
            "2     A     A     A     A     A     A     A     A     A     A     A     A   \n",
            "3     A     A     A     A     A     A     A     A     A     A     A     B   \n",
            "4     A     A     A     A     A     A     A     A     A     A     B     A   \n",
            "\n",
            "  cat74 cat75 cat76 cat77 cat78 cat79 cat80 cat81 cat82 cat83 cat84 cat85  \\\n",
            "0     A     B     A     D     B     B     D     D     B     D     C     B   \n",
            "1     A     A     A     D     B     B     D     D     A     B     C     B   \n",
            "2     A     A     A     D     B     B     B     D     B     D     C     B   \n",
            "3     A     A     A     D     B     B     D     D     D     B     C     B   \n",
            "4     A     A     A     D     B     D     B     D     B     B     C     B   \n",
            "\n",
            "  cat86 cat87 cat88 cat89 cat90 cat91 cat92 cat93 cat94 cat95 cat96 cat97  \\\n",
            "0     D     B     A     A     A     A     A     D     B     C     E     A   \n",
            "1     D     B     A     A     A     A     A     D     D     C     E     E   \n",
            "2     B     B     A     A     A     A     A     D     D     C     E     E   \n",
            "3     D     B     A     A     A     A     A     D     D     C     E     E   \n",
            "4     B     C     A     A     A     B     H     D     B     D     E     E   \n",
            "\n",
            "  cat98 cat99 cat100 cat101 cat102 cat103 cat104 cat105 cat106 cat107 cat108  \\\n",
            "0     C     T      B      G      A      A      I      E      G      J      G   \n",
            "1     D     T      L      F      A      A      E      E      I      K      K   \n",
            "2     A     D      L      O      A      B      E      F      H      F      A   \n",
            "3     D     T      I      D      A      A      E      E      I      K      K   \n",
            "4     A     P      F      J      A      A      D      E      K      G      B   \n",
            "\n",
            "  cat109 cat110 cat111 cat112 cat113 cat114 cat115 cat116     cont1     cont2  \\\n",
            "0     BU     BC      C     AS      S      A      O     LB  0.726300  0.245921   \n",
            "1     BI     CQ      A     AV     BM      A      O     DP  0.330514  0.737068   \n",
            "2     AB     DK      A      C     AF      A      I     GK  0.261841  0.358319   \n",
            "3     BI     CS      C      N     AE      A      O     DJ  0.321594  0.555782   \n",
            "4      H      C      C      Y     BM      A      K     CK  0.273204  0.159990   \n",
            "\n",
            "      cont3     cont4     cont5     cont6     cont7    cont8    cont9  \\\n",
            "0  0.187583  0.789639  0.310061  0.718367  0.335060  0.30260  0.67135   \n",
            "1  0.592681  0.614134  0.885834  0.438917  0.436585  0.60087  0.35127   \n",
            "2  0.484196  0.236924  0.397069  0.289648  0.315545  0.27320  0.26076   \n",
            "3  0.527991  0.373816  0.422268  0.440945  0.391128  0.31796  0.32128   \n",
            "4  0.527991  0.473202  0.704268  0.178193  0.247408  0.24564  0.22089   \n",
            "\n",
            "    cont10    cont11    cont12    cont13    cont14     loss  \n",
            "0  0.83510  0.569745  0.594646  0.822493  0.714843  2213.18  \n",
            "1  0.43919  0.338312  0.366307  0.611431  0.304496  1283.60  \n",
            "2  0.32446  0.381398  0.373424  0.195709  0.774425  3005.09  \n",
            "3  0.44467  0.327915  0.321570  0.605077  0.602642   939.85  \n",
            "4  0.21230  0.204687  0.202213  0.246011  0.432606  2763.85  \n"
          ],
          "name": "stdout"
        }
      ]
    },
    {
      "cell_type": "code",
      "metadata": {
        "id": "kpqPiLnjGzcY",
        "colab_type": "code",
        "outputId": "f0079841-9cb9-4a50-f969-3cf9b5e1d7bb",
        "colab": {
          "base_uri": "https://localhost:8080/",
          "height": 34
        }
      },
      "source": [
        "print(train_data.shape)                                  #number of training datapoints given and features."
      ],
      "execution_count": 4,
      "outputs": [
        {
          "output_type": "stream",
          "text": [
            "(188318, 132)\n"
          ],
          "name": "stdout"
        }
      ]
    },
    {
      "cell_type": "code",
      "metadata": {
        "id": "GeATiAlDGzcb",
        "colab_type": "code",
        "colab": {}
      },
      "source": [
        "import copy\n",
        "test_data = copy.deepcopy(train_data.iloc[150000:])\n",
        "train_data = train_data.iloc[:150000]"
      ],
      "execution_count": 0,
      "outputs": []
    },
    {
      "cell_type": "code",
      "metadata": {
        "id": "ZVB6ZqdgGzce",
        "colab_type": "code",
        "outputId": "166ecb88-fb7a-4053-de25-49851aa27b51",
        "colab": {
          "base_uri": "https://localhost:8080/",
          "height": 50
        }
      },
      "source": [
        "print(train_data.shape)\n",
        "print(test_data.shape)"
      ],
      "execution_count": 6,
      "outputs": [
        {
          "output_type": "stream",
          "text": [
            "(150000, 132)\n",
            "(38318, 132)\n"
          ],
          "name": "stdout"
        }
      ]
    },
    {
      "cell_type": "code",
      "metadata": {
        "id": "CbTSburuGzci",
        "colab_type": "code",
        "outputId": "8c73f8bc-769a-4c87-d8bb-f1e5825c734e",
        "colab": {
          "base_uri": "https://localhost:8080/",
          "height": 1000
        }
      },
      "source": [
        "y_true = test_data['loss']\n",
        "\n",
        "#print the first 5 entries of test data also.\n",
        "print(test_data.head(5))"
      ],
      "execution_count": 7,
      "outputs": [
        {
          "output_type": "stream",
          "text": [
            "            id cat1 cat2 cat3 cat4 cat5 cat6 cat7 cat8 cat9 cat10 cat11 cat12  \\\n",
            "150000  467729    A    A    A    A    A    B    A    A    A     A     A     A   \n",
            "150001  467734    A    B    A    A    B    A    A    A    B     B     A     A   \n",
            "150002  467739    A    B    A    A    A    A    A    A    B     B     B     B   \n",
            "150003  467740    A    A    A    A    A    B    A    A    A     A     A     A   \n",
            "150004  467743    A    B    A    A    A    A    A    A    B     A     B     A   \n",
            "\n",
            "       cat13 cat14 cat15 cat16 cat17 cat18 cat19 cat20 cat21 cat22 cat23  \\\n",
            "150000     A     A     A     A     A     A     A     A     A     A     A   \n",
            "150001     B     A     A     A     A     A     A     A     A     A     A   \n",
            "150002     B     A     A     A     A     A     A     A     A     A     A   \n",
            "150003     A     A     A     A     A     A     A     A     A     A     A   \n",
            "150004     A     A     A     A     A     A     A     A     A     A     A   \n",
            "\n",
            "       cat24 cat25 cat26 cat27 cat28 cat29 cat30 cat31 cat32 cat33 cat34  \\\n",
            "150000     A     A     A     A     A     A     A     A     A     A     A   \n",
            "150001     A     A     A     A     A     A     A     A     A     A     A   \n",
            "150002     A     A     A     A     A     A     A     A     A     A     A   \n",
            "150003     A     A     A     A     A     A     A     A     A     A     A   \n",
            "150004     A     A     A     A     A     A     A     A     A     A     A   \n",
            "\n",
            "       cat35 cat36 cat37 cat38 cat39 cat40 cat41 cat42 cat43 cat44 cat45  \\\n",
            "150000     A     A     A     A     A     A     A     A     A     A     A   \n",
            "150001     A     B     A     B     A     A     A     A     A     A     A   \n",
            "150002     A     A     A     A     A     A     A     A     A     A     A   \n",
            "150003     A     A     A     A     A     A     A     A     A     A     A   \n",
            "150004     A     A     A     A     A     A     A     A     A     A     A   \n",
            "\n",
            "       cat46 cat47 cat48 cat49 cat50 cat51 cat52 cat53 cat54 cat55 cat56  \\\n",
            "150000     A     A     A     A     B     A     A     A     A     A     A   \n",
            "150001     A     A     A     A     A     A     A     A     A     A     A   \n",
            "150002     A     A     A     A     A     A     A     A     A     A     A   \n",
            "150003     A     A     A     A     B     A     A     A     B     A     A   \n",
            "150004     A     A     A     A     A     A     A     A     A     A     A   \n",
            "\n",
            "       cat57 cat58 cat59 cat60 cat61 cat62 cat63 cat64 cat65 cat66 cat67  \\\n",
            "150000     A     A     A     A     A     A     A     A     A     A     A   \n",
            "150001     A     A     A     A     A     A     A     A     A     A     A   \n",
            "150002     A     A     A     A     A     A     A     A     A     A     A   \n",
            "150003     A     A     A     A     A     A     A     A     A     A     A   \n",
            "150004     A     A     A     A     A     A     A     A     A     A     A   \n",
            "\n",
            "       cat68 cat69 cat70 cat71 cat72 cat73 cat74 cat75 cat76 cat77 cat78  \\\n",
            "150000     A     A     A     A     B     A     A     A     A     D     B   \n",
            "150001     A     A     A     A     B     A     A     A     A     D     B   \n",
            "150002     A     A     A     A     B     A     A     A     A     D     B   \n",
            "150003     A     A     A     A     A     A     A     A     A     D     B   \n",
            "150004     A     A     A     A     B     A     A     B     A     D     B   \n",
            "\n",
            "       cat79 cat80 cat81 cat82 cat83 cat84 cat85 cat86 cat87 cat88 cat89  \\\n",
            "150000     B     D     D     B     B     C     B     B     B     A     A   \n",
            "150001     D     B     D     B     B     C     B     D     B     A     A   \n",
            "150002     D     B     D     B     B     C     B     D     C     A     A   \n",
            "150003     B     D     D     D     C     A     B     B     B     A     A   \n",
            "150004     D     B     D     B     A     C     B     B     B     A     A   \n",
            "\n",
            "       cat90 cat91 cat92 cat93 cat94 cat95 cat96 cat97 cat98 cat99 cat100  \\\n",
            "150000     A     A     A     D     D     D     E     C     A     P      K   \n",
            "150001     A     B     H     D     B     C     E     C     D     T      F   \n",
            "150002     A     A     A     D     B     C     E     A     D     T      H   \n",
            "150003     A     G     H     D     D     D     E     G     A     P      F   \n",
            "150004     A     A     A     D     D     C     E     C     A     D      L   \n",
            "\n",
            "       cat101 cat102 cat103 cat104 cat105 cat106 cat107 cat108 cat109 cat110  \\\n",
            "150000      A      A      A      E      E      H      F      B     BI     EG   \n",
            "150001      J      A      C      G      E      H      M      K     AB     EB   \n",
            "150002      O      A      A      I      D      F      K      K     BI     EB   \n",
            "150003      A      A      A      I      E      E      D      D     BI     BT   \n",
            "150004      G      A      A      I      I      G      F      H     BI     EB   \n",
            "\n",
            "       cat111 cat112 cat113 cat114 cat115 cat116     cont1     cont2  \\\n",
            "150000      A     AH     AE      E      K     DJ  0.546670  0.620805   \n",
            "150001      A      F     AJ      A      Q     HV  0.277834  0.422197   \n",
            "150002      A      E      Y      A      P     KW  0.689151  0.159990   \n",
            "150003      A     AH     AO      J      I     KC  0.805726  0.358319   \n",
            "150004      A      J      X      A      I     KC  0.458463  0.620805   \n",
            "\n",
            "           cont3     cont4     cont5     cont6     cont7    cont8    cont9  \\\n",
            "150000  0.634224  0.373816  0.867056  0.364464  0.391010  0.26847  0.46226   \n",
            "150001  0.280933  0.364302  0.340543  0.536159  0.427382  0.36083  0.34365   \n",
            "150002  0.129646  0.614134  0.534484  0.864009  0.664113  0.65122  0.64489   \n",
            "150003  0.201309  0.292430  0.380560  0.686431  0.824097  0.25010  0.61751   \n",
            "150004  0.440642  0.864586  0.281143  0.399426  0.523332  0.69334  0.39849   \n",
            "\n",
            "         cont10    cont11    cont12    cont13    cont14      loss  \n",
            "150000  0.50556  0.366788  0.359249  0.345247  0.230963    869.22  \n",
            "150001  0.44467  0.492200  0.481306  0.725783  0.741312   4784.82  \n",
            "150002  0.79139  0.415029  0.481306  0.861364  0.820561  12261.31  \n",
            "150003  0.77634  0.603774  0.590961  0.360468  0.243884   1251.58  \n",
            "150004  0.57172  0.797841  0.785706  0.276878  0.386924   3787.10  \n"
          ],
          "name": "stdout"
        }
      ]
    },
    {
      "cell_type": "code",
      "metadata": {
        "id": "heqLO9CsGzcl",
        "colab_type": "code",
        "outputId": "b2bc4c16-8a2c-4653-b78e-1fdf49f9ed25",
        "colab": {
          "base_uri": "https://localhost:8080/",
          "height": 672
        }
      },
      "source": [
        "print(train_data.describe())                             #basic information regarding the train_data"
      ],
      "execution_count": 8,
      "outputs": [
        {
          "output_type": "stream",
          "text": [
            "                  id          cont1          cont2          cont3  \\\n",
            "count  150000.000000  150000.000000  150000.000000  150000.000000   \n",
            "mean   234490.288887       0.493660       0.507320       0.498990   \n",
            "std    134937.378713       0.187537       0.207229       0.202252   \n",
            "min         1.000000       0.000016       0.001149       0.002634   \n",
            "25%    117537.750000       0.346090       0.358319       0.336963   \n",
            "50%    234497.500000       0.475784       0.555782       0.527991   \n",
            "75%    351272.000000       0.623912       0.681761       0.634224   \n",
            "max    467728.000000       0.984975       0.862654       0.944251   \n",
            "\n",
            "               cont4          cont5          cont6          cont7  \\\n",
            "count  150000.000000  150000.000000  150000.000000  150000.000000   \n",
            "mean        0.491802       0.487722       0.490615       0.484894   \n",
            "std         0.211373       0.209136       0.205168       0.178525   \n",
            "min         0.176921       0.281143       0.012683       0.069503   \n",
            "25%         0.327354       0.281143       0.335580       0.350175   \n",
            "50%         0.452887       0.422268       0.440945       0.438285   \n",
            "75%         0.652072       0.643315       0.653958       0.590687   \n",
            "max         0.952482       0.983674       0.997162       1.000000   \n",
            "\n",
            "               cont8          cont9         cont10         cont11  \\\n",
            "count  150000.000000  150000.000000  150000.000000  150000.000000   \n",
            "mean        0.485975       0.485215       0.497761       0.493302   \n",
            "std         0.199114       0.181607       0.185666       0.209816   \n",
            "min         0.236880       0.000080       0.000000       0.035321   \n",
            "25%         0.312800       0.358970       0.364580       0.310961   \n",
            "50%         0.441060       0.437310       0.461190       0.457203   \n",
            "75%         0.623580       0.558550       0.614590       0.678924   \n",
            "max         0.980200       0.993790       0.994980       0.998742   \n",
            "\n",
            "              cont12         cont13         cont14           loss  \n",
            "count  150000.000000  150000.000000  150000.000000  150000.000000  \n",
            "mean        0.492966       0.492626       0.496251    3040.378682  \n",
            "std         0.209489       0.212733       0.222599    2917.478617  \n",
            "min         0.036232       0.000228       0.179722       0.670000  \n",
            "25%         0.308395       0.315758       0.294772    1202.187500  \n",
            "50%         0.462286       0.363547       0.409813    2115.875000  \n",
            "75%         0.675759       0.689974       0.724733    3869.207500  \n",
            "max         0.998484       0.988494       0.844848  121012.250000  \n"
          ],
          "name": "stdout"
        }
      ]
    },
    {
      "cell_type": "markdown",
      "metadata": {
        "id": "70NbpZyKGzcn",
        "colab_type": "text"
      },
      "source": [
        "## Skewness of the data"
      ]
    },
    {
      "cell_type": "markdown",
      "metadata": {
        "id": "z8jNcmysGzcn",
        "colab_type": "text"
      },
      "source": [
        "Now, we check the skewness of the data. The more closer it is to 0 , the better. Skewness basically means if out data is concentrated on one end of the range. We like our data to be as middle as possible."
      ]
    },
    {
      "cell_type": "code",
      "metadata": {
        "id": "lP3Wf6zqGzco",
        "colab_type": "code",
        "outputId": "2b06dfae-4a73-4749-98a0-2d3c30c23b9c",
        "colab": {
          "base_uri": "https://localhost:8080/",
          "height": 302
        }
      },
      "source": [
        "print(train_data.skew())                                 "
      ],
      "execution_count": 9,
      "outputs": [
        {
          "output_type": "stream",
          "text": [
            "id       -0.004008\n",
            "cont1     0.517909\n",
            "cont2    -0.312079\n",
            "cont3    -0.010250\n",
            "cont4     0.415957\n",
            "cont5     0.680679\n",
            "cont6     0.464061\n",
            "cont7     0.828456\n",
            "cont8     0.679399\n",
            "cont9     1.074892\n",
            "cont10    0.356928\n",
            "cont11    0.282640\n",
            "cont12    0.293526\n",
            "cont13    0.385175\n",
            "cont14    0.243783\n",
            "loss      3.901837\n",
            "dtype: float64\n"
          ],
          "name": "stdout"
        }
      ]
    },
    {
      "cell_type": "code",
      "metadata": {
        "id": "np5nfOLEVFj1",
        "colab_type": "code",
        "outputId": "cc992499-6679-4ada-95e5-320b1c3da907",
        "colab": {
          "base_uri": "https://localhost:8080/",
          "height": 302
        }
      },
      "source": [
        "print(test_data.skew())"
      ],
      "execution_count": 10,
      "outputs": [
        {
          "output_type": "stream",
          "text": [
            "id       -0.001863\n",
            "cont1     0.510621\n",
            "cont2    -0.306505\n",
            "cont3    -0.009054\n",
            "cont4     0.416662\n",
            "cont5     0.685321\n",
            "cont6     0.450110\n",
            "cont7     0.816640\n",
            "cont8     0.665771\n",
            "cont9     1.062892\n",
            "cont10    0.347399\n",
            "cont11    0.273726\n",
            "cont12    0.286009\n",
            "cont13    0.363462\n",
            "cont14    0.267875\n",
            "loss      3.343821\n",
            "dtype: float64\n"
          ],
          "name": "stdout"
        }
      ]
    },
    {
      "cell_type": "markdown",
      "metadata": {
        "id": "ntDqxPfwGzcr",
        "colab_type": "text"
      },
      "source": [
        "While others features are allright, loss is positively skewed. To work with it, we need to normalize it which we will later do by applying log function to it."
      ]
    },
    {
      "cell_type": "markdown",
      "metadata": {
        "id": "6qhEFVivGzcr",
        "colab_type": "text"
      },
      "source": [
        "Now, we will visualize the voilin plot of all the features and try to understand the data better."
      ]
    },
    {
      "cell_type": "code",
      "metadata": {
        "id": "qUNYMpOHGzcs",
        "colab_type": "code",
        "outputId": "b14b93d7-7f78-475d-9d7a-ab57f5429e57",
        "colab": {
          "base_uri": "https://localhost:8080/",
          "height": 1000
        }
      },
      "source": [
        "# We will visualize all the continuous attributes using Violin Plot - a combination of box and density plots\n",
        "\n",
        "#import plotting libraries\n",
        "import seaborn as sns\n",
        "import matplotlib.pyplot as plt\n",
        "\n",
        "#range of features considered\n",
        "split = 117\n",
        "\n",
        "#number of features considered\n",
        "size = 15\n",
        "\n",
        "#create a dataframe with only continuous features\n",
        "data=train_data.iloc[:,split:] \n",
        "\n",
        "#get the names of all the columns\n",
        "cols=data.columns \n",
        "\n",
        "#Plot violin for all attributes in a 7x2 grid\n",
        "n_cols = 2\n",
        "n_rows = 7\n",
        "\n",
        "for i in range(n_rows):\n",
        "    fg,ax = plt.subplots(nrows=1,ncols=n_cols,figsize=(12, 8))\n",
        "    for j in range(n_cols):\n",
        "        sns.violinplot(y=cols[i*n_cols+j], data=train_data, ax=ax[j])\n",
        "plt.show()"
      ],
      "execution_count": 11,
      "outputs": [
        {
          "output_type": "display_data",
          "data": {
            "image/png": "[encoded data removed]",
            "text/plain": [
              "<Figure size 864x576 with 2 Axes>"
            ]
          },
          "metadata": {
            "tags": [],
            "needs_background": "light"
          }
        },
        {
          "output_type": "display_data",
          "data": {
            "image/png": "[encoded data removed]",
            "text/plain": [
              "<Figure size 864x576 with 2 Axes>"
            ]
          },
          "metadata": {
            "tags": [],
            "needs_background": "light"
          }
        },
        {
          "output_type": "display_data",
          "data": {
            "image/png": "[encoded data removed]",
            "text/plain": [
              "<Figure size 864x576 with 2 Axes>"
            ]
          },
          "metadata": {
            "tags": [],
            "needs_background": "light"
          }
        },
        {
          "output_type": "display_data",
          "data": {
            "image/png": "[encoded data removed]",
            "text/plain": [
              "<Figure size 864x576 with 2 Axes>"
            ]
          },
          "metadata": {
            "tags": [],
            "needs_background": "light"
          }
        },
        {
          "output_type": "display_data",
          "data": {
            "image/png": "[encoded data removed]",
            "text/plain": [
              "<Figure size 864x576 with 2 Axes>"
            ]
          },
          "metadata": {
            "tags": [],
            "needs_background": "light"
          }
        },
        {
          "output_type": "display_data",
          "data": {
            "image/png": "[encoded data removed]",
            "text/plain": [
              "<Figure size 864x576 with 2 Axes>"
            ]
          },
          "metadata": {
            "tags": [],
            "needs_background": "light"
          }
        },
        {
          "output_type": "display_data",
          "data": {
            "image/png": "[encoded data removed]",
            "text/plain": [
              "<Figure size 864x576 with 2 Axes>"
            ]
          },
          "metadata": {
            "tags": [],
            "needs_background": "light"
          }
        }
      ]
    },
    {
      "cell_type": "markdown",
      "metadata": {
        "id": "5pOs31dUGzcw",
        "colab_type": "text"
      },
      "source": [
        "Cont1 has many values close to 0.5.\n",
        "Cont2 has a pattern where there a several spikes at specific points.\n",
        "Cont5 has many values near 0.3.\n",
        "Cont14 has a distinct pattern. 0.22 and 0.82 have a lot of concentration.\n",
        "Loss distribution must be converted to normal."
      ]
    },
    {
      "cell_type": "code",
      "metadata": {
        "id": "0_u-wKtWGzcw",
        "colab_type": "code",
        "outputId": "ef449bc9-04a9-408f-eeee-200f7a9b720a",
        "colab": {
          "base_uri": "https://localhost:8080/",
          "height": 34
        }
      },
      "source": [
        "print(test_data.shape)                                 #number of testing datapoints given and its features."
      ],
      "execution_count": 12,
      "outputs": [
        {
          "output_type": "stream",
          "text": [
            "(38318, 132)\n"
          ],
          "name": "stdout"
        }
      ]
    },
    {
      "cell_type": "markdown",
      "metadata": {
        "collapsed": true,
        "id": "K1oBoYy6Gzcy",
        "colab_type": "text"
      },
      "source": [
        "The test data should have one less column than the training data which makes sense because it must not be containing the target variable. To check , let's print first five entries of it."
      ]
    },
    {
      "cell_type": "code",
      "metadata": {
        "id": "KwIzFBvFGzcz",
        "colab_type": "code",
        "outputId": "722cc091-d1bc-4707-eb5d-92daa2b2c3d9",
        "colab": {
          "base_uri": "https://localhost:8080/",
          "height": 1000
        }
      },
      "source": [
        "print(test_data.head(5)) "
      ],
      "execution_count": 13,
      "outputs": [
        {
          "output_type": "stream",
          "text": [
            "            id cat1 cat2 cat3 cat4 cat5 cat6 cat7 cat8 cat9 cat10 cat11 cat12  \\\n",
            "150000  467729    A    A    A    A    A    B    A    A    A     A     A     A   \n",
            "150001  467734    A    B    A    A    B    A    A    A    B     B     A     A   \n",
            "150002  467739    A    B    A    A    A    A    A    A    B     B     B     B   \n",
            "150003  467740    A    A    A    A    A    B    A    A    A     A     A     A   \n",
            "150004  467743    A    B    A    A    A    A    A    A    B     A     B     A   \n",
            "\n",
            "       cat13 cat14 cat15 cat16 cat17 cat18 cat19 cat20 cat21 cat22 cat23  \\\n",
            "150000     A     A     A     A     A     A     A     A     A     A     A   \n",
            "150001     B     A     A     A     A     A     A     A     A     A     A   \n",
            "150002     B     A     A     A     A     A     A     A     A     A     A   \n",
            "150003     A     A     A     A     A     A     A     A     A     A     A   \n",
            "150004     A     A     A     A     A     A     A     A     A     A     A   \n",
            "\n",
            "       cat24 cat25 cat26 cat27 cat28 cat29 cat30 cat31 cat32 cat33 cat34  \\\n",
            "150000     A     A     A     A     A     A     A     A     A     A     A   \n",
            "150001     A     A     A     A     A     A     A     A     A     A     A   \n",
            "150002     A     A     A     A     A     A     A     A     A     A     A   \n",
            "150003     A     A     A     A     A     A     A     A     A     A     A   \n",
            "150004     A     A     A     A     A     A     A     A     A     A     A   \n",
            "\n",
            "       cat35 cat36 cat37 cat38 cat39 cat40 cat41 cat42 cat43 cat44 cat45  \\\n",
            "150000     A     A     A     A     A     A     A     A     A     A     A   \n",
            "150001     A     B     A     B     A     A     A     A     A     A     A   \n",
            "150002     A     A     A     A     A     A     A     A     A     A     A   \n",
            "150003     A     A     A     A     A     A     A     A     A     A     A   \n",
            "150004     A     A     A     A     A     A     A     A     A     A     A   \n",
            "\n",
            "       cat46 cat47 cat48 cat49 cat50 cat51 cat52 cat53 cat54 cat55 cat56  \\\n",
            "150000     A     A     A     A     B     A     A     A     A     A     A   \n",
            "150001     A     A     A     A     A     A     A     A     A     A     A   \n",
            "150002     A     A     A     A     A     A     A     A     A     A     A   \n",
            "150003     A     A     A     A     B     A     A     A     B     A     A   \n",
            "150004     A     A     A     A     A     A     A     A     A     A     A   \n",
            "\n",
            "       cat57 cat58 cat59 cat60 cat61 cat62 cat63 cat64 cat65 cat66 cat67  \\\n",
            "150000     A     A     A     A     A     A     A     A     A     A     A   \n",
            "150001     A     A     A     A     A     A     A     A     A     A     A   \n",
            "150002     A     A     A     A     A     A     A     A     A     A     A   \n",
            "150003     A     A     A     A     A     A     A     A     A     A     A   \n",
            "150004     A     A     A     A     A     A     A     A     A     A     A   \n",
            "\n",
            "       cat68 cat69 cat70 cat71 cat72 cat73 cat74 cat75 cat76 cat77 cat78  \\\n",
            "150000     A     A     A     A     B     A     A     A     A     D     B   \n",
            "150001     A     A     A     A     B     A     A     A     A     D     B   \n",
            "150002     A     A     A     A     B     A     A     A     A     D     B   \n",
            "150003     A     A     A     A     A     A     A     A     A     D     B   \n",
            "150004     A     A     A     A     B     A     A     B     A     D     B   \n",
            "\n",
            "       cat79 cat80 cat81 cat82 cat83 cat84 cat85 cat86 cat87 cat88 cat89  \\\n",
            "150000     B     D     D     B     B     C     B     B     B     A     A   \n",
            "150001     D     B     D     B     B     C     B     D     B     A     A   \n",
            "150002     D     B     D     B     B     C     B     D     C     A     A   \n",
            "150003     B     D     D     D     C     A     B     B     B     A     A   \n",
            "150004     D     B     D     B     A     C     B     B     B     A     A   \n",
            "\n",
            "       cat90 cat91 cat92 cat93 cat94 cat95 cat96 cat97 cat98 cat99 cat100  \\\n",
            "150000     A     A     A     D     D     D     E     C     A     P      K   \n",
            "150001     A     B     H     D     B     C     E     C     D     T      F   \n",
            "150002     A     A     A     D     B     C     E     A     D     T      H   \n",
            "150003     A     G     H     D     D     D     E     G     A     P      F   \n",
            "150004     A     A     A     D     D     C     E     C     A     D      L   \n",
            "\n",
            "       cat101 cat102 cat103 cat104 cat105 cat106 cat107 cat108 cat109 cat110  \\\n",
            "150000      A      A      A      E      E      H      F      B     BI     EG   \n",
            "150001      J      A      C      G      E      H      M      K     AB     EB   \n",
            "150002      O      A      A      I      D      F      K      K     BI     EB   \n",
            "150003      A      A      A      I      E      E      D      D     BI     BT   \n",
            "150004      G      A      A      I      I      G      F      H     BI     EB   \n",
            "\n",
            "       cat111 cat112 cat113 cat114 cat115 cat116     cont1     cont2  \\\n",
            "150000      A     AH     AE      E      K     DJ  0.546670  0.620805   \n",
            "150001      A      F     AJ      A      Q     HV  0.277834  0.422197   \n",
            "150002      A      E      Y      A      P     KW  0.689151  0.159990   \n",
            "150003      A     AH     AO      J      I     KC  0.805726  0.358319   \n",
            "150004      A      J      X      A      I     KC  0.458463  0.620805   \n",
            "\n",
            "           cont3     cont4     cont5     cont6     cont7    cont8    cont9  \\\n",
            "150000  0.634224  0.373816  0.867056  0.364464  0.391010  0.26847  0.46226   \n",
            "150001  0.280933  0.364302  0.340543  0.536159  0.427382  0.36083  0.34365   \n",
            "150002  0.129646  0.614134  0.534484  0.864009  0.664113  0.65122  0.64489   \n",
            "150003  0.201309  0.292430  0.380560  0.686431  0.824097  0.25010  0.61751   \n",
            "150004  0.440642  0.864586  0.281143  0.399426  0.523332  0.69334  0.39849   \n",
            "\n",
            "         cont10    cont11    cont12    cont13    cont14      loss  \n",
            "150000  0.50556  0.366788  0.359249  0.345247  0.230963    869.22  \n",
            "150001  0.44467  0.492200  0.481306  0.725783  0.741312   4784.82  \n",
            "150002  0.79139  0.415029  0.481306  0.861364  0.820561  12261.31  \n",
            "150003  0.77634  0.603774  0.590961  0.360468  0.243884   1251.58  \n",
            "150004  0.57172  0.797841  0.785706  0.276878  0.386924   3787.10  \n"
          ],
          "name": "stdout"
        }
      ]
    },
    {
      "cell_type": "markdown",
      "metadata": {
        "id": "0NQC1rhHGzc1",
        "colab_type": "text"
      },
      "source": [
        "Let's see the kde plot of log loss."
      ]
    },
    {
      "cell_type": "code",
      "metadata": {
        "id": "nBtnNHxlGzc1",
        "colab_type": "code",
        "outputId": "12571994-b575-4355-a3a2-b1752b94d5dd",
        "colab": {
          "base_uri": "https://localhost:8080/",
          "height": 265
        }
      },
      "source": [
        "import seaborn as sns\n",
        "import matplotlib.pyplot as plt\n",
        "\n",
        "#shift is another hyper-parameter.\n",
        "shift = 200\n",
        "\n",
        "ax = sns.kdeplot(np.log(train_data['loss']),legend= True)                        #to visualize the log loss without shift\n",
        "ax = sns.kdeplot(np.log(train_data['loss']+shift),legend= True)                  #to visualize the log loss with shift\n",
        "\n",
        "plt.show()"
      ],
      "execution_count": 14,
      "outputs": [
        {
          "output_type": "display_data",
          "data": {
            "image/png": "[encoded data removed]",
            "text/plain": [
              "<Figure size 432x288 with 1 Axes>"
            ]
          },
          "metadata": {
            "tags": [],
            "needs_background": "light"
          }
        }
      ]
    },
    {
      "cell_type": "markdown",
      "metadata": {
        "id": "vl4tjoWrGzc4",
        "colab_type": "text"
      },
      "source": [
        "Shift is another hyper-parameter. it sometimes gives better performance. I have taken it from the discussion linked here - https://www.kaggle.com/c/allstate-claims-severity/discussion/24611#141269"
      ]
    },
    {
      "cell_type": "code",
      "metadata": {
        "id": "26f9GQuPGzc4",
        "colab_type": "code",
        "outputId": "b079286f-dc94-427d-8300-6acbf98f61f2",
        "colab": {
          "base_uri": "https://localhost:8080/",
          "height": 487
        }
      },
      "source": [
        "#getting the id column from test set\n",
        "ids = test_data['id']\n",
        "\n",
        "target = train_data['loss']\n",
        "\n",
        "#drop the unnecessary column id and loss from both train and test set.\n",
        "train_data.drop(['id','loss'],1,inplace=True)\n",
        "test_data.drop(['id','loss'],1,inplace=True)\n",
        "\n",
        "#violin plot to visualize loss before applying log transformation.\n",
        "sns.violinplot(data=train_data,y=target)  \n",
        "plt.show()\n",
        "\n",
        "target = np.log(target+shift)\n",
        "\n",
        "#violin plot to visualize loss after applying log transformation.\n",
        "sns.violinplot(data=train_data,y=target)  \n",
        "plt.show()"
      ],
      "execution_count": 15,
      "outputs": [
        {
          "output_type": "display_data",
          "data": {
            "image/png": "[encoded data removed]",
            "text/plain": [
              "<Figure size 432x288 with 1 Axes>"
            ]
          },
          "metadata": {
            "tags": [],
            "needs_background": "light"
          }
        },
        {
          "output_type": "display_data",
          "data": {
            "image/png": "[encoded data removed]",
            "text/plain": [
              "<Figure size 432x288 with 1 Axes>"
            ]
          },
          "metadata": {
            "tags": [],
            "needs_background": "light"
          }
        }
      ]
    },
    {
      "cell_type": "markdown",
      "metadata": {
        "id": "HmR7FJryGzc6",
        "colab_type": "text"
      },
      "source": [
        "Now that the loss has been normalized, We can proceed futher."
      ]
    },
    {
      "cell_type": "markdown",
      "metadata": {
        "id": "ntooPSf5Gzc7",
        "colab_type": "text"
      },
      "source": [
        "We will find the correlation between different features."
      ]
    },
    {
      "cell_type": "code",
      "metadata": {
        "id": "GWTXpsPTGzc7",
        "colab_type": "code",
        "outputId": "90e2686a-a4b3-47f4-90a2-7189070157c9",
        "colab": {
          "base_uri": "https://localhost:8080/",
          "height": 403
        }
      },
      "source": [
        "# Correlation tells relation between two attributes.\n",
        "# Correlation requires continous data. Hence, ignore categorical data\n",
        "\n",
        "# Calculates pearson co-efficient for all combinations\n",
        "data_corr = data.corr()\n",
        "\n",
        "# Set the threshold to select only highly correlated attributes\n",
        "threshold = 0.5\n",
        "\n",
        "# List of pairs along with correlation above threshold\n",
        "corr_list = []\n",
        "\n",
        "#Search for the highly correlated pairs\n",
        "for i in range(0,size): #for 'size' features\n",
        "    for j in range(i+1,size): #avoid repetition\n",
        "        if (data_corr.iloc[i,j] >= threshold and data_corr.iloc[i,j] < 1) or (data_corr.iloc[i,j] < 0 and data_corr.iloc[i,j] <= -threshold):\n",
        "            corr_list.append([data_corr.iloc[i,j],i,j]) #store correlation and columns index\n",
        "\n",
        "#Sort to show higher ones first            \n",
        "s_corr_list = sorted(corr_list,key=lambda x: -abs(x[0]))\n",
        "\n",
        "#Print correlations and column names\n",
        "for v,i,j in s_corr_list:\n",
        "    print (\"%s and %s = %.2f\" % (cols[i],cols[j],v))"
      ],
      "execution_count": 16,
      "outputs": [
        {
          "output_type": "stream",
          "text": [
            "cont11 and cont12 = 0.99\n",
            "cont1 and cont9 = 0.93\n",
            "cont6 and cont10 = 0.88\n",
            "cont6 and cont13 = 0.81\n",
            "cont1 and cont10 = 0.81\n",
            "cont6 and cont9 = 0.80\n",
            "cont9 and cont10 = 0.79\n",
            "cont6 and cont12 = 0.79\n",
            "cont6 and cont11 = 0.77\n",
            "cont1 and cont6 = 0.76\n",
            "cont7 and cont11 = 0.75\n",
            "cont7 and cont12 = 0.74\n",
            "cont10 and cont12 = 0.71\n",
            "cont10 and cont13 = 0.71\n",
            "cont10 and cont11 = 0.70\n",
            "cont6 and cont7 = 0.66\n",
            "cont9 and cont13 = 0.64\n",
            "cont9 and cont12 = 0.63\n",
            "cont1 and cont12 = 0.61\n",
            "cont9 and cont11 = 0.61\n",
            "cont1 and cont11 = 0.60\n",
            "cont1 and cont13 = 0.53\n",
            "cont4 and cont8 = 0.53\n"
          ],
          "name": "stdout"
        }
      ]
    },
    {
      "cell_type": "markdown",
      "metadata": {
        "id": "rxE9IFZfGzc_",
        "colab_type": "text"
      },
      "source": [
        "Strong correlation is observed between the following pairs.\n",
        "This represents an opportunity to reduce the feature set through transformations such as PCA."
      ]
    },
    {
      "cell_type": "markdown",
      "metadata": {
        "id": "_doRNjBXGzdA",
        "colab_type": "text"
      },
      "source": [
        "Next, we count the number of different labels in each categorical feature."
      ]
    },
    {
      "cell_type": "code",
      "metadata": {
        "id": "cIuccqKvGzdB",
        "colab_type": "code",
        "outputId": "bcb89549-270f-4c01-aecb-6afdff75f97f",
        "colab": {
          "base_uri": "https://localhost:8080/",
          "height": 1000
        }
      },
      "source": [
        "#names of all the columns\n",
        "cols = train_data.columns\n",
        "\n",
        "#Plot count plot for all attributes in a 29x4 grid\n",
        "n_cols = 4\n",
        "n_rows = 29\n",
        "for i in range(n_rows):\n",
        "    fg,ax = plt.subplots(nrows=1,ncols=n_cols,sharey=True,figsize=(12, 8))\n",
        "    for j in range(n_cols):\n",
        "        sns.countplot(x=cols[i*n_cols+j], data=train_data, ax=ax[j])\n",
        "plt.show()"
      ],
      "execution_count": 17,
      "outputs": [
        {
          "output_type": "display_data",
          "data": {
            "image/png": "[encoded data removed]",
            "text/plain": [
              "<Figure size 864x576 with 4 Axes>"
            ]
          },
          "metadata": {
            "tags": [],
            "needs_background": "light"
          }
        },
        {
          "output_type": "display_data",
          "data": {
            "image/png": "[encoded data removed]",
            "text/plain": [
              "<Figure size 864x576 with 4 Axes>"
            ]
          },
          "metadata": {
            "tags": [],
            "needs_background": "light"
          }
        },
        {
          "output_type": "display_data",
          "data": {
            "image/png": "[encoded data removed]",
            "text/plain": [
              "<Figure size 864x576 with 4 Axes>"
            ]
          },
          "metadata": {
            "tags": [],
            "needs_background": "light"
          }
        },
        {
          "output_type": "display_data",
          "data": {
            "image/png": "[encoded data removed]",
            "text/plain": [
              "<Figure size 864x576 with 4 Axes>"
            ]
          },
          "metadata": {
            "tags": [],
            "needs_background": "light"
          }
        },
        {
          "output_type": "display_data",
          "data": {
            "image/png": "[encoded data removed]",
            "text/plain": [
              "<Figure size 864x576 with 4 Axes>"
            ]
          },
          "metadata": {
            "tags": [],
            "needs_background": "light"
          }
        },
        {
          "output_type": "display_data",
          "data": {
            "image/png": "[encoded data removed]",
            "text/plain": [
              "<Figure size 864x576 with 4 Axes>"
            ]
          },
          "metadata": {
            "tags": [],
            "needs_background": "light"
          }
        },
        {
          "output_type": "display_data",
          "data": {
            "image/png": "[encoded data removed]",
            "text/plain": [
              "<Figure size 864x576 with 4 Axes>"
            ]
          },
          "metadata": {
            "tags": [],
            "needs_background": "light"
          }
        },
        {
          "output_type": "display_data",
          "data": {
            "image/png": "[encoded data removed]",
            "text/plain": [
              "<Figure size 864x576 with 4 Axes>"
            ]
          },
          "metadata": {
            "tags": [],
            "needs_background": "light"
          }
        },
        {
          "output_type": "display_data",
          "data": {
            "image/png": "[encoded data removed]",
            "text/plain": [
              "<Figure size 864x576 with 4 Axes>"
            ]
          },
          "metadata": {
            "tags": [],
            "needs_background": "light"
          }
        },
        {
          "output_type": "display_data",
          "data": {
            "image/png": "[encoded data removed]",
            "text/plain": [
              "<Figure size 864x576 with 4 Axes>"
            ]
          },
          "metadata": {
            "tags": [],
            "needs_background": "light"
          }
        },
        {
          "output_type": "display_data",
          "data": {
            "image/png": "[encoded data removed]",
            "text/plain": [
              "<Figure size 864x576 with 4 Axes>"
            ]
          },
          "metadata": {
            "tags": [],
            "needs_background": "light"
          }
        },
        {
          "output_type": "display_data",
          "data": {
            "image/png": "[encoded data removed]",
            "text/plain": [
              "<Figure size 864x576 with 4 Axes>"
            ]
          },
          "metadata": {
            "tags": [],
            "needs_background": "light"
          }
        },
        {
          "output_type": "display_data",
          "data": {
            "image/png": "[encoded data removed]",
            "text/plain": [
              "<Figure size 864x576 with 4 Axes>"
            ]
          },
          "metadata": {
            "tags": [],
            "needs_background": "light"
          }
        },
        {
          "output_type": "display_data",
          "data": {
            "image/png": "[encoded data removed]",
            "text/plain": [
              "<Figure size 864x576 with 4 Axes>"
            ]
          },
          "metadata": {
            "tags": [],
            "needs_background": "light"
          }
        },
        {
          "output_type": "display_data",
          "data": {
            "image/png": "[encoded data removed]",
            "text/plain": [
              "<Figure size 864x576 with 4 Axes>"
            ]
          },
          "metadata": {
            "tags": [],
            "needs_background": "light"
          }
        },
        {
          "output_type": "display_data",
          "data": {
            "image/png": "[encoded data removed]",
            "text/plain": [
              "<Figure size 864x576 with 4 Axes>"
            ]
          },
          "metadata": {
            "tags": [],
            "needs_background": "light"
          }
        },
        {
          "output_type": "display_data",
          "data": {
            "image/png": "[encoded data removed]",
            "text/plain": [
              "<Figure size 864x576 with 4 Axes>"
            ]
          },
          "metadata": {
            "tags": [],
            "needs_background": "light"
          }
        },
        {
          "output_type": "display_data",
          "data": {
            "image/png": "[encoded data removed]",
            "text/plain": [
              "<Figure size 864x576 with 4 Axes>"
            ]
          },
          "metadata": {
            "tags": [],
            "needs_background": "light"
          }
        },
        {
          "output_type": "display_data",
          "data": {
            "image/png": "[encoded data removed]",
            "text/plain": [
              "<Figure size 864x576 with 4 Axes>"
            ]
          },
          "metadata": {
            "tags": [],
            "needs_background": "light"
          }
        },
        {
          "output_type": "display_data",
          "data": {
            "image/png": "[encoded data removed]",
            "text/plain": [
              "<Figure size 864x576 with 4 Axes>"
            ]
          },
          "metadata": {
            "tags": [],
            "needs_background": "light"
          }
        },
        {
          "output_type": "display_data",
          "data": {
            "image/png": "[encoded data removed]",
            "text/plain": [
              "<Figure size 864x576 with 4 Axes>"
            ]
          },
          "metadata": {
            "tags": [],
            "needs_background": "light"
          }
        },
        {
          "output_type": "display_data",
          "data": {
            "image/png": "[encoded data removed]",
            "text/plain": [
              "<Figure size 864x576 with 4 Axes>"
            ]
          },
          "metadata": {
            "tags": [],
            "needs_background": "light"
          }
        },
        {
          "output_type": "display_data",
          "data": {
            "image/png": "[encoded data removed]",
            "text/plain": [
              "<Figure size 864x576 with 4 Axes>"
            ]
          },
          "metadata": {
            "tags": [],
            "needs_background": "light"
          }
        },
        {
          "output_type": "display_data",
          "data": {
            "image/png": "[encoded data removed]",
            "text/plain": [
              "<Figure size 864x576 with 4 Axes>"
            ]
          },
          "metadata": {
            "tags": [],
            "needs_background": "light"
          }
        },
        {
          "output_type": "display_data",
          "data": {
            "image/png": "[encoded data removed]",
            "text/plain": [
              "<Figure size 864x576 with 4 Axes>"
            ]
          },
          "metadata": {
            "tags": [],
            "needs_background": "light"
          }
        },
        {
          "output_type": "display_data",
          "data": {
            "image/png": "[encoded data removed]",
            "text/plain": [
              "<Figure size 864x576 with 4 Axes>"
            ]
          },
          "metadata": {
            "tags": [],
            "needs_background": "light"
          }
        },
        {
          "output_type": "display_data",
          "data": {
            "image/png": "[encoded data removed]",
            "text/plain": [
              "<Figure size 864x576 with 4 Axes>"
            ]
          },
          "metadata": {
            "tags": [],
            "needs_background": "light"
          }
        },
        {
          "output_type": "display_data",
          "data": {
            "image/png": "[encoded data removed]",
            "text/plain": [
              "<Figure size 864x576 with 4 Axes>"
            ]
          },
          "metadata": {
            "tags": [],
            "needs_background": "light"
          }
        },
        {
          "output_type": "display_data",
          "data": {
            "image/png": "[encoded data removed]",
            "text/plain": [
              "<Figure size 864x576 with 4 Axes>"
            ]
          },
          "metadata": {
            "tags": [],
            "needs_background": "light"
          }
        }
      ]
    },
    {
      "cell_type": "markdown",
      "metadata": {
        "collapsed": true,
        "id": "LxJWzE7eGzdE",
        "colab_type": "text"
      },
      "source": [
        "Cat1 to cat72 have only two labels A and B. In most of the cases, B has very few entries.\n",
        "\n",
        "Cat73 to cat 108 have more than two labels.\n",
        "\n",
        "Cat109 to cat116 have many labels."
      ]
    },
    {
      "cell_type": "markdown",
      "metadata": {
        "id": "JNYR5cdwGzdE",
        "colab_type": "text"
      },
      "source": [
        "## Converting categorical features to numeric values"
      ]
    },
    {
      "cell_type": "markdown",
      "metadata": {
        "id": "uCpmU35lGzdE",
        "colab_type": "text"
      },
      "source": [
        "Since, all the models expect matrices consisting of numbers and not the alphabetical values, We need to convert the the values to corresponding numeric values. One problem in that is training set may contain categorical values not available in testing set and vice-versa. To solve it, we will merge the two datasets so that we can factorize them easily."
      ]
    },
    {
      "cell_type": "code",
      "metadata": {
        "id": "HcE42YLqGzdF",
        "colab_type": "code",
        "colab": {}
      },
      "source": [
        "#merging both the datasets to make single joined dataset\n",
        "joined = pandas.concat([train_data, test_data],ignore_index = True)\n",
        "del train_data,test_data                                         #deleting previous one to save memory.\n",
        "\n",
        "cat_feature = [n for n in joined.columns if n.startswith('cat')]  #list of all the features containing categorical values\n",
        "\n",
        "#factorizing them\n",
        "for column in cat_feature:\n",
        "    joined[column] = pandas.factorize(joined[column].values, sort=True)[0]\n",
        "        \n",
        "del cat_feature"
      ],
      "execution_count": 0,
      "outputs": []
    },
    {
      "cell_type": "markdown",
      "metadata": {
        "id": "_8PE_H1wGzdH",
        "colab_type": "text"
      },
      "source": [
        "Let's visualize the first five entries of the dataset now."
      ]
    },
    {
      "cell_type": "code",
      "metadata": {
        "id": "CXWE1VdzGzdI",
        "colab_type": "code",
        "outputId": "2e55e40a-fd9c-4d94-9a1e-512b26da8f5e",
        "colab": {
          "base_uri": "https://localhost:8080/",
          "height": 1000
        }
      },
      "source": [
        "print (joined.head(5))"
      ],
      "execution_count": 19,
      "outputs": [
        {
          "output_type": "stream",
          "text": [
            "   cat1  cat2  cat3  cat4  cat5  cat6  cat7  cat8  cat9  cat10  cat11  cat12  \\\n",
            "0     0     1     0     1     0     0     0     0     1      0      1      0   \n",
            "1     0     1     0     0     0     0     0     0     1      1      0      0   \n",
            "2     0     1     0     0     1     0     0     0     1      1      1      1   \n",
            "3     1     1     0     1     0     0     0     0     1      0      0      0   \n",
            "4     0     1     0     1     0     0     0     0     1      1      0      1   \n",
            "\n",
            "   cat13  cat14  cat15  cat16  cat17  cat18  cat19  cat20  cat21  cat22  \\\n",
            "0      0      0      0      0      0      0      0      0      0      0   \n",
            "1      0      0      0      0      0      0      0      0      0      0   \n",
            "2      1      0      0      0      0      0      0      0      0      0   \n",
            "3      0      0      0      0      0      0      0      0      0      0   \n",
            "4      0      0      0      0      0      0      0      0      0      0   \n",
            "\n",
            "   cat23  cat24  cat25  cat26  cat27  cat28  cat29  cat30  cat31  cat32  \\\n",
            "0      1      0      0      0      0      0      0      0      0      0   \n",
            "1      0      0      0      0      0      0      0      0      0      0   \n",
            "2      0      0      0      0      0      0      0      0      0      0   \n",
            "3      1      0      0      0      0      0      0      0      0      0   \n",
            "4      1      0      0      0      0      0      0      0      0      0   \n",
            "\n",
            "   cat33  cat34  cat35  cat36  cat37  cat38  cat39  cat40  cat41  cat42  \\\n",
            "0      0      0      0      0      0      0      0      0      0      0   \n",
            "1      0      0      0      0      0      0      0      0      0      0   \n",
            "2      0      0      0      1      0      0      0      0      0      0   \n",
            "3      0      0      0      0      0      0      0      0      0      0   \n",
            "4      0      0      0      0      0      0      0      0      0      0   \n",
            "\n",
            "   cat43  cat44  cat45  cat46  cat47  cat48  cat49  cat50  cat51  cat52  \\\n",
            "0      0      0      0      0      0      0      0      0      0      0   \n",
            "1      0      0      0      0      0      0      0      0      0      0   \n",
            "2      0      0      0      0      0      0      0      0      0      0   \n",
            "3      0      0      0      0      0      0      0      0      0      0   \n",
            "4      0      0      0      0      0      0      0      0      0      0   \n",
            "\n",
            "   cat53  cat54  cat55  cat56  cat57  cat58  cat59  cat60  cat61  cat62  \\\n",
            "0      0      0      0      0      0      0      0      0      0      0   \n",
            "1      0      0      0      0      0      0      0      0      0      0   \n",
            "2      0      0      0      0      0      0      0      0      0      0   \n",
            "3      0      0      0      0      0      0      0      0      0      0   \n",
            "4      0      0      0      0      0      0      0      0      0      0   \n",
            "\n",
            "   cat63  cat64  cat65  cat66  cat67  cat68  cat69  cat70  cat71  cat72  \\\n",
            "0      0      0      0      0      0      0      0      0      0      0   \n",
            "1      0      0      0      0      0      0      0      0      0      0   \n",
            "2      0      0      0      0      0      0      0      0      0      0   \n",
            "3      0      0      0      0      0      0      0      0      0      0   \n",
            "4      0      0      0      0      0      0      0      0      0      1   \n",
            "\n",
            "   cat73  cat74  cat75  cat76  cat77  cat78  cat79  cat80  cat81  cat82  \\\n",
            "0      0      0      1      0      3      1      1      3      3      1   \n",
            "1      0      0      0      0      3      1      1      3      3      0   \n",
            "2      0      0      0      0      3      1      1      1      3      1   \n",
            "3      1      0      0      0      3      1      1      3      3      3   \n",
            "4      0      0      0      0      3      1      3      1      3      1   \n",
            "\n",
            "   cat83  cat84  cat85  cat86  cat87  cat88  cat89  cat90  cat91  cat92  \\\n",
            "0      3      2      1      3      1      0      0      0      0      0   \n",
            "1      1      2      1      3      1      0      0      0      0      0   \n",
            "2      3      2      1      1      1      0      0      0      0      0   \n",
            "3      1      2      1      3      1      0      0      0      0      0   \n",
            "4      1      2      1      1      2      0      0      0      1      5   \n",
            "\n",
            "   cat93  cat94  cat95  cat96  cat97  cat98  cat99  cat100  cat101  cat102  \\\n",
            "0      3      1      2      4      0      2     15       1       6       0   \n",
            "1      3      3      2      4      4      3     15      11       5       0   \n",
            "2      3      3      2      4      4      0      1      11      14       0   \n",
            "3      3      3      2      4      4      3     15       8       3       0   \n",
            "4      3      1      3      4      4      0     12       5       9       0   \n",
            "\n",
            "   cat103  cat104  cat105  cat106  cat107  cat108  cat109  cat110  cat111  \\\n",
            "0       0       8       4       6       9       6      45      28       2   \n",
            "1       0       4       4       8      10      10      33      65       0   \n",
            "2       1       4       5       7       5       0       2      85       0   \n",
            "3       0       4       4       8      10      10      33      67       2   \n",
            "4       0       3       4      10       6       1      66      50       2   \n",
            "\n",
            "   cat112  cat113  cat114  cat115  cat116     cont1     cont2     cont3  \\\n",
            "0      19      55       0      14     269  0.726300  0.245921  0.187583   \n",
            "1      22      38       0      14      85  0.330514  0.737068  0.592681   \n",
            "2      28       5       0       8     153  0.261841  0.358319  0.484196   \n",
            "3      39       4       0      14      79  0.321594  0.555782  0.527991   \n",
            "4      50      38       0      10      55  0.273204  0.159990  0.527991   \n",
            "\n",
            "      cont4     cont5     cont6     cont7    cont8    cont9   cont10  \\\n",
            "0  0.789639  0.310061  0.718367  0.335060  0.30260  0.67135  0.83510   \n",
            "1  0.614134  0.885834  0.438917  0.436585  0.60087  0.35127  0.43919   \n",
            "2  0.236924  0.397069  0.289648  0.315545  0.27320  0.26076  0.32446   \n",
            "3  0.373816  0.422268  0.440945  0.391128  0.31796  0.32128  0.44467   \n",
            "4  0.473202  0.704268  0.178193  0.247408  0.24564  0.22089  0.21230   \n",
            "\n",
            "     cont11    cont12    cont13    cont14  \n",
            "0  0.569745  0.594646  0.822493  0.714843  \n",
            "1  0.338312  0.366307  0.611431  0.304496  \n",
            "2  0.381398  0.373424  0.195709  0.774425  \n",
            "3  0.327915  0.321570  0.605077  0.602642  \n",
            "4  0.204687  0.202213  0.246011  0.432606  \n"
          ],
          "name": "stdout"
        }
      ]
    },
    {
      "cell_type": "markdown",
      "metadata": {
        "id": "pMZS0KuQGzdK",
        "colab_type": "text"
      },
      "source": [
        "## Bifurcating the joined data into training and testing data again"
      ]
    },
    {
      "cell_type": "code",
      "metadata": {
        "id": "jrjc6H_OGzdK",
        "colab_type": "code",
        "outputId": "e44b18f3-55e2-48c3-9da4-b4ec328b46a4",
        "colab": {
          "base_uri": "https://localhost:8080/",
          "height": 34
        }
      },
      "source": [
        "#used when submission is made on kaggle\n",
        "\n",
        "#extracting training and testing data form joined data\n",
        "'''train_data = joined[joined['loss'].notnull()]\n",
        "test_data = joined[joined['loss'].isnull()]\n",
        "del joined\n",
        "'''\n",
        "\n",
        "train_data = joined.iloc[:150000,:]\n",
        "test_data = joined.iloc[150000:,:]\n",
        "print (test_data.shape)"
      ],
      "execution_count": 20,
      "outputs": [
        {
          "output_type": "stream",
          "text": [
            "(38318, 130)\n"
          ],
          "name": "stdout"
        }
      ]
    },
    {
      "cell_type": "code",
      "metadata": {
        "id": "jdJyfSOrUpKE",
        "colab_type": "code",
        "outputId": "2382123b-ac88-4a94-c997-6d15cec0bcca",
        "colab": {
          "base_uri": "https://localhost:8080/",
          "height": 304
        }
      },
      "source": [
        "test_data.describe()"
      ],
      "execution_count": 21,
      "outputs": [
        {
          "output_type": "execute_result",
          "data": {
            "text/html": [
              "<div>\n",
              "<style scoped>\n",
              "    .dataframe tbody tr th:only-of-type {\n",
              "        vertical-align: middle;\n",
              "    }\n",
              "\n",
              "    .dataframe tbody tr th {\n",
              "        vertical-align: top;\n",
              "    }\n",
              "\n",
              "    .dataframe thead th {\n",
              "        text-align: right;\n",
              "    }\n",
              "</style>\n",
              "<table border=\"1\" class=\"dataframe\">\n",
              "  <thead>\n",
              "    <tr style=\"text-align: right;\">\n",
              "      <th></th>\n",
              "      <th>cat1</th>\n",
              "      <th>cat2</th>\n",
              "      <th>cat3</th>\n",
              "      <th>cat4</th>\n",
              "      <th>cat5</th>\n",
              "      <th>cat6</th>\n",
              "      <th>cat7</th>\n",
              "      <th>cat8</th>\n",
              "      <th>cat9</th>\n",
              "      <th>cat10</th>\n",
              "      <th>cat11</th>\n",
              "      <th>cat12</th>\n",
              "      <th>cat13</th>\n",
              "      <th>cat14</th>\n",
              "      <th>cat15</th>\n",
              "      <th>cat16</th>\n",
              "      <th>cat17</th>\n",
              "      <th>cat18</th>\n",
              "      <th>cat19</th>\n",
              "      <th>cat20</th>\n",
              "      <th>cat21</th>\n",
              "      <th>cat22</th>\n",
              "      <th>cat23</th>\n",
              "      <th>cat24</th>\n",
              "      <th>cat25</th>\n",
              "      <th>cat26</th>\n",
              "      <th>cat27</th>\n",
              "      <th>cat28</th>\n",
              "      <th>cat29</th>\n",
              "      <th>cat30</th>\n",
              "      <th>cat31</th>\n",
              "      <th>cat32</th>\n",
              "      <th>cat33</th>\n",
              "      <th>cat34</th>\n",
              "      <th>cat35</th>\n",
              "      <th>cat36</th>\n",
              "      <th>cat37</th>\n",
              "      <th>cat38</th>\n",
              "      <th>cat39</th>\n",
              "      <th>cat40</th>\n",
              "      <th>cat41</th>\n",
              "      <th>cat42</th>\n",
              "      <th>cat43</th>\n",
              "      <th>cat44</th>\n",
              "      <th>cat45</th>\n",
              "      <th>cat46</th>\n",
              "      <th>cat47</th>\n",
              "      <th>cat48</th>\n",
              "      <th>cat49</th>\n",
              "      <th>cat50</th>\n",
              "      <th>cat51</th>\n",
              "      <th>cat52</th>\n",
              "      <th>cat53</th>\n",
              "      <th>cat54</th>\n",
              "      <th>cat55</th>\n",
              "      <th>cat56</th>\n",
              "      <th>cat57</th>\n",
              "      <th>cat58</th>\n",
              "      <th>cat59</th>\n",
              "      <th>cat60</th>\n",
              "      <th>cat61</th>\n",
              "      <th>cat62</th>\n",
              "      <th>cat63</th>\n",
              "      <th>cat64</th>\n",
              "      <th>cat65</th>\n",
              "      <th>cat66</th>\n",
              "      <th>cat67</th>\n",
              "      <th>cat68</th>\n",
              "      <th>cat69</th>\n",
              "      <th>cat70</th>\n",
              "      <th>cat71</th>\n",
              "      <th>cat72</th>\n",
              "      <th>cat73</th>\n",
              "      <th>cat74</th>\n",
              "      <th>cat75</th>\n",
              "      <th>cat76</th>\n",
              "      <th>cat77</th>\n",
              "      <th>cat78</th>\n",
              "      <th>cat79</th>\n",
              "      <th>cat80</th>\n",
              "      <th>cat81</th>\n",
              "      <th>cat82</th>\n",
              "      <th>cat83</th>\n",
              "      <th>cat84</th>\n",
              "      <th>cat85</th>\n",
              "      <th>cat86</th>\n",
              "      <th>cat87</th>\n",
              "      <th>cat88</th>\n",
              "      <th>cat89</th>\n",
              "      <th>cat90</th>\n",
              "      <th>cat91</th>\n",
              "      <th>cat92</th>\n",
              "      <th>cat93</th>\n",
              "      <th>cat94</th>\n",
              "      <th>cat95</th>\n",
              "      <th>cat96</th>\n",
              "      <th>cat97</th>\n",
              "      <th>cat98</th>\n",
              "      <th>cat99</th>\n",
              "      <th>cat100</th>\n",
              "      <th>cat101</th>\n",
              "      <th>cat102</th>\n",
              "      <th>cat103</th>\n",
              "      <th>cat104</th>\n",
              "      <th>cat105</th>\n",
              "      <th>cat106</th>\n",
              "      <th>cat107</th>\n",
              "      <th>cat108</th>\n",
              "      <th>cat109</th>\n",
              "      <th>cat110</th>\n",
              "      <th>cat111</th>\n",
              "      <th>cat112</th>\n",
              "      <th>cat113</th>\n",
              "      <th>cat114</th>\n",
              "      <th>cat115</th>\n",
              "      <th>cat116</th>\n",
              "      <th>cont1</th>\n",
              "      <th>cont2</th>\n",
              "      <th>cont3</th>\n",
              "      <th>cont4</th>\n",
              "      <th>cont5</th>\n",
              "      <th>cont6</th>\n",
              "      <th>cont7</th>\n",
              "      <th>cont8</th>\n",
              "      <th>cont9</th>\n",
              "      <th>cont10</th>\n",
              "      <th>cont11</th>\n",
              "      <th>cont12</th>\n",
              "      <th>cont13</th>\n",
              "      <th>cont14</th>\n",
              "    </tr>\n",
              "  </thead>\n",
              "  <tbody>\n",
              "    <tr>\n",
              "      <th>count</th>\n",
              "      <td>38318.000000</td>\n",
              "      <td>38318.000000</td>\n",
              "      <td>38318.000000</td>\n",
              "      <td>38318.000000</td>\n",
              "      <td>38318.000000</td>\n",
              "      <td>38318.000000</td>\n",
              "      <td>38318.000000</td>\n",
              "      <td>38318.000000</td>\n",
              "      <td>38318.000000</td>\n",
              "      <td>38318.000000</td>\n",
              "      <td>38318.000000</td>\n",
              "      <td>38318.000000</td>\n",
              "      <td>38318.000000</td>\n",
              "      <td>38318.000000</td>\n",
              "      <td>38318.000000</td>\n",
              "      <td>38318.000000</td>\n",
              "      <td>38318.000000</td>\n",
              "      <td>38318.000000</td>\n",
              "      <td>38318.000000</td>\n",
              "      <td>38318.000000</td>\n",
              "      <td>38318.000000</td>\n",
              "      <td>38318.000000</td>\n",
              "      <td>38318.000000</td>\n",
              "      <td>38318.000000</td>\n",
              "      <td>38318.000000</td>\n",
              "      <td>38318.000000</td>\n",
              "      <td>38318.000000</td>\n",
              "      <td>38318.000000</td>\n",
              "      <td>38318.000000</td>\n",
              "      <td>38318.000000</td>\n",
              "      <td>38318.000000</td>\n",
              "      <td>38318.000000</td>\n",
              "      <td>38318.000000</td>\n",
              "      <td>38318.000000</td>\n",
              "      <td>38318.000000</td>\n",
              "      <td>38318.000000</td>\n",
              "      <td>38318.000000</td>\n",
              "      <td>38318.000000</td>\n",
              "      <td>38318.000000</td>\n",
              "      <td>38318.000000</td>\n",
              "      <td>38318.000000</td>\n",
              "      <td>38318.000000</td>\n",
              "      <td>38318.000000</td>\n",
              "      <td>38318.000000</td>\n",
              "      <td>38318.000000</td>\n",
              "      <td>38318.000000</td>\n",
              "      <td>38318.000000</td>\n",
              "      <td>38318.000000</td>\n",
              "      <td>38318.000000</td>\n",
              "      <td>38318.000000</td>\n",
              "      <td>38318.000000</td>\n",
              "      <td>38318.000000</td>\n",
              "      <td>38318.000000</td>\n",
              "      <td>38318.000000</td>\n",
              "      <td>38318.000000</td>\n",
              "      <td>38318.000000</td>\n",
              "      <td>38318.000000</td>\n",
              "      <td>38318.000000</td>\n",
              "      <td>38318.000000</td>\n",
              "      <td>38318.000000</td>\n",
              "      <td>38318.000000</td>\n",
              "      <td>38318.000000</td>\n",
              "      <td>38318.000000</td>\n",
              "      <td>38318.000000</td>\n",
              "      <td>38318.000000</td>\n",
              "      <td>38318.000000</td>\n",
              "      <td>38318.00000</td>\n",
              "      <td>38318.000000</td>\n",
              "      <td>38318.000000</td>\n",
              "      <td>38318.000000</td>\n",
              "      <td>38318.000000</td>\n",
              "      <td>38318.000000</td>\n",
              "      <td>38318.000000</td>\n",
              "      <td>38318.000000</td>\n",
              "      <td>38318.000000</td>\n",
              "      <td>38318.000000</td>\n",
              "      <td>38318.000000</td>\n",
              "      <td>38318.000000</td>\n",
              "      <td>38318.000000</td>\n",
              "      <td>38318.000000</td>\n",
              "      <td>38318.000000</td>\n",
              "      <td>38318.000000</td>\n",
              "      <td>38318.000000</td>\n",
              "      <td>38318.000000</td>\n",
              "      <td>38318.000000</td>\n",
              "      <td>38318.000000</td>\n",
              "      <td>38318.000000</td>\n",
              "      <td>38318.000000</td>\n",
              "      <td>38318.000000</td>\n",
              "      <td>38318.000000</td>\n",
              "      <td>38318.000000</td>\n",
              "      <td>38318.000000</td>\n",
              "      <td>38318.000000</td>\n",
              "      <td>38318.000000</td>\n",
              "      <td>38318.000000</td>\n",
              "      <td>38318.000000</td>\n",
              "      <td>38318.000000</td>\n",
              "      <td>38318.000000</td>\n",
              "      <td>38318.000000</td>\n",
              "      <td>38318.000000</td>\n",
              "      <td>38318.000000</td>\n",
              "      <td>38318.000000</td>\n",
              "      <td>38318.000000</td>\n",
              "      <td>38318.000000</td>\n",
              "      <td>38318.000000</td>\n",
              "      <td>38318.000000</td>\n",
              "      <td>38318.000000</td>\n",
              "      <td>38318.000000</td>\n",
              "      <td>38318.000000</td>\n",
              "      <td>38318.000000</td>\n",
              "      <td>38318.000000</td>\n",
              "      <td>38318.000000</td>\n",
              "      <td>38318.000000</td>\n",
              "      <td>38318.000000</td>\n",
              "      <td>38318.000000</td>\n",
              "      <td>38318.000000</td>\n",
              "      <td>38318.000000</td>\n",
              "      <td>38318.000000</td>\n",
              "      <td>38318.000000</td>\n",
              "      <td>38318.000000</td>\n",
              "      <td>38318.000000</td>\n",
              "      <td>38318.000000</td>\n",
              "      <td>38318.000000</td>\n",
              "      <td>38318.000000</td>\n",
              "      <td>38318.000000</td>\n",
              "      <td>38318.000000</td>\n",
              "      <td>38318.000000</td>\n",
              "      <td>38318.000000</td>\n",
              "      <td>38318.000000</td>\n",
              "      <td>38318.000000</td>\n",
              "    </tr>\n",
              "    <tr>\n",
              "      <th>mean</th>\n",
              "      <td>0.252362</td>\n",
              "      <td>0.433034</td>\n",
              "      <td>0.054309</td>\n",
              "      <td>0.321181</td>\n",
              "      <td>0.345269</td>\n",
              "      <td>0.297510</td>\n",
              "      <td>0.023227</td>\n",
              "      <td>0.057780</td>\n",
              "      <td>0.399316</td>\n",
              "      <td>0.148833</td>\n",
              "      <td>0.106582</td>\n",
              "      <td>0.152200</td>\n",
              "      <td>0.101702</td>\n",
              "      <td>0.011848</td>\n",
              "      <td>0.000130</td>\n",
              "      <td>0.034005</td>\n",
              "      <td>0.006655</td>\n",
              "      <td>0.004671</td>\n",
              "      <td>0.010178</td>\n",
              "      <td>0.000966</td>\n",
              "      <td>0.002192</td>\n",
              "      <td>0.000157</td>\n",
              "      <td>0.163578</td>\n",
              "      <td>0.033222</td>\n",
              "      <td>0.098178</td>\n",
              "      <td>0.061694</td>\n",
              "      <td>0.108643</td>\n",
              "      <td>0.038546</td>\n",
              "      <td>0.019938</td>\n",
              "      <td>0.019625</td>\n",
              "      <td>0.028707</td>\n",
              "      <td>0.005820</td>\n",
              "      <td>0.005298</td>\n",
              "      <td>0.003288</td>\n",
              "      <td>0.001096</td>\n",
              "      <td>0.171042</td>\n",
              "      <td>0.119396</td>\n",
              "      <td>0.103111</td>\n",
              "      <td>0.025836</td>\n",
              "      <td>0.043504</td>\n",
              "      <td>0.037815</td>\n",
              "      <td>0.009134</td>\n",
              "      <td>0.021739</td>\n",
              "      <td>0.084347</td>\n",
              "      <td>0.023305</td>\n",
              "      <td>0.005115</td>\n",
              "      <td>0.003967</td>\n",
              "      <td>0.001409</td>\n",
              "      <td>0.048411</td>\n",
              "      <td>0.267081</td>\n",
              "      <td>0.006472</td>\n",
              "      <td>0.046819</td>\n",
              "      <td>0.079780</td>\n",
              "      <td>0.023096</td>\n",
              "      <td>0.000600</td>\n",
              "      <td>0.000992</td>\n",
              "      <td>0.015371</td>\n",
              "      <td>0.000992</td>\n",
              "      <td>0.001566</td>\n",
              "      <td>0.002166</td>\n",
              "      <td>0.004045</td>\n",
              "      <td>0.000104</td>\n",
              "      <td>0.000313</td>\n",
              "      <td>0.000183</td>\n",
              "      <td>0.011639</td>\n",
              "      <td>0.043609</td>\n",
              "      <td>0.00381</td>\n",
              "      <td>0.000731</td>\n",
              "      <td>0.001644</td>\n",
              "      <td>0.000130</td>\n",
              "      <td>0.051516</td>\n",
              "      <td>0.371836</td>\n",
              "      <td>0.184274</td>\n",
              "      <td>0.019182</td>\n",
              "      <td>0.181351</td>\n",
              "      <td>0.042904</td>\n",
              "      <td>2.992667</td>\n",
              "      <td>1.003393</td>\n",
              "      <td>1.253014</td>\n",
              "      <td>2.469257</td>\n",
              "      <td>2.685422</td>\n",
              "      <td>1.112219</td>\n",
              "      <td>1.061068</td>\n",
              "      <td>1.706561</td>\n",
              "      <td>1.005872</td>\n",
              "      <td>1.826348</td>\n",
              "      <td>1.167206</td>\n",
              "      <td>0.208283</td>\n",
              "      <td>0.024740</td>\n",
              "      <td>0.058824</td>\n",
              "      <td>1.177671</td>\n",
              "      <td>1.684091</td>\n",
              "      <td>2.792160</td>\n",
              "      <td>2.376011</td>\n",
              "      <td>2.564069</td>\n",
              "      <td>3.940602</td>\n",
              "      <td>2.444569</td>\n",
              "      <td>1.267785</td>\n",
              "      <td>12.476721</td>\n",
              "      <td>7.434704</td>\n",
              "      <td>2.549298</td>\n",
              "      <td>0.097213</td>\n",
              "      <td>0.649721</td>\n",
              "      <td>5.578736</td>\n",
              "      <td>4.776737</td>\n",
              "      <td>6.650060</td>\n",
              "      <td>6.997129</td>\n",
              "      <td>4.545775</td>\n",
              "      <td>30.793152</td>\n",
              "      <td>73.611123</td>\n",
              "      <td>1.124615</td>\n",
              "      <td>23.801138</td>\n",
              "      <td>31.242079</td>\n",
              "      <td>1.438645</td>\n",
              "      <td>11.824860</td>\n",
              "      <td>152.685161</td>\n",
              "      <td>0.494649</td>\n",
              "      <td>0.506672</td>\n",
              "      <td>0.498638</td>\n",
              "      <td>0.491851</td>\n",
              "      <td>0.486277</td>\n",
              "      <td>0.492233</td>\n",
              "      <td>0.485269</td>\n",
              "      <td>0.488247</td>\n",
              "      <td>0.486648</td>\n",
              "      <td>0.499259</td>\n",
              "      <td>0.494328</td>\n",
              "      <td>0.493874</td>\n",
              "      <td>0.495142</td>\n",
              "      <td>0.493625</td>\n",
              "    </tr>\n",
              "    <tr>\n",
              "      <th>std</th>\n",
              "      <td>0.434373</td>\n",
              "      <td>0.495502</td>\n",
              "      <td>0.226629</td>\n",
              "      <td>0.466936</td>\n",
              "      <td>0.475462</td>\n",
              "      <td>0.457169</td>\n",
              "      <td>0.150625</td>\n",
              "      <td>0.233329</td>\n",
              "      <td>0.489764</td>\n",
              "      <td>0.355929</td>\n",
              "      <td>0.308585</td>\n",
              "      <td>0.359219</td>\n",
              "      <td>0.302259</td>\n",
              "      <td>0.108204</td>\n",
              "      <td>0.011422</td>\n",
              "      <td>0.181244</td>\n",
              "      <td>0.081306</td>\n",
              "      <td>0.068189</td>\n",
              "      <td>0.100373</td>\n",
              "      <td>0.031060</td>\n",
              "      <td>0.046770</td>\n",
              "      <td>0.012513</td>\n",
              "      <td>0.369897</td>\n",
              "      <td>0.179218</td>\n",
              "      <td>0.297560</td>\n",
              "      <td>0.240603</td>\n",
              "      <td>0.311195</td>\n",
              "      <td>0.192512</td>\n",
              "      <td>0.139790</td>\n",
              "      <td>0.138710</td>\n",
              "      <td>0.166984</td>\n",
              "      <td>0.076066</td>\n",
              "      <td>0.072594</td>\n",
              "      <td>0.057250</td>\n",
              "      <td>0.033090</td>\n",
              "      <td>0.376551</td>\n",
              "      <td>0.324258</td>\n",
              "      <td>0.304108</td>\n",
              "      <td>0.158649</td>\n",
              "      <td>0.203992</td>\n",
              "      <td>0.190751</td>\n",
              "      <td>0.095136</td>\n",
              "      <td>0.145832</td>\n",
              "      <td>0.277911</td>\n",
              "      <td>0.150872</td>\n",
              "      <td>0.071338</td>\n",
              "      <td>0.062858</td>\n",
              "      <td>0.037514</td>\n",
              "      <td>0.214635</td>\n",
              "      <td>0.442441</td>\n",
              "      <td>0.080190</td>\n",
              "      <td>0.211253</td>\n",
              "      <td>0.270955</td>\n",
              "      <td>0.150211</td>\n",
              "      <td>0.024493</td>\n",
              "      <td>0.031476</td>\n",
              "      <td>0.123026</td>\n",
              "      <td>0.031476</td>\n",
              "      <td>0.039540</td>\n",
              "      <td>0.046491</td>\n",
              "      <td>0.063473</td>\n",
              "      <td>0.010217</td>\n",
              "      <td>0.017694</td>\n",
              "      <td>0.013515</td>\n",
              "      <td>0.107258</td>\n",
              "      <td>0.204226</td>\n",
              "      <td>0.06161</td>\n",
              "      <td>0.027022</td>\n",
              "      <td>0.040515</td>\n",
              "      <td>0.011422</td>\n",
              "      <td>0.221051</td>\n",
              "      <td>0.483301</td>\n",
              "      <td>0.388183</td>\n",
              "      <td>0.138490</td>\n",
              "      <td>0.385314</td>\n",
              "      <td>0.224284</td>\n",
              "      <td>0.114340</td>\n",
              "      <td>0.129397</td>\n",
              "      <td>0.738864</td>\n",
              "      <td>0.880454</td>\n",
              "      <td>0.703955</td>\n",
              "      <td>0.712236</td>\n",
              "      <td>0.705899</td>\n",
              "      <td>0.744434</td>\n",
              "      <td>0.142280</td>\n",
              "      <td>0.969274</td>\n",
              "      <td>0.521824</td>\n",
              "      <td>0.611772</td>\n",
              "      <td>0.166211</td>\n",
              "      <td>0.255810</td>\n",
              "      <td>2.055106</td>\n",
              "      <td>2.359981</td>\n",
              "      <td>0.445675</td>\n",
              "      <td>0.904882</td>\n",
              "      <td>0.740667</td>\n",
              "      <td>0.486013</td>\n",
              "      <td>1.779913</td>\n",
              "      <td>1.476378</td>\n",
              "      <td>3.389723</td>\n",
              "      <td>3.334561</td>\n",
              "      <td>3.822272</td>\n",
              "      <td>0.435010</td>\n",
              "      <td>1.140593</td>\n",
              "      <td>2.316051</td>\n",
              "      <td>1.169385</td>\n",
              "      <td>1.756586</td>\n",
              "      <td>2.185774</td>\n",
              "      <td>3.643097</td>\n",
              "      <td>12.452406</td>\n",
              "      <td>29.478887</td>\n",
              "      <td>1.969507</td>\n",
              "      <td>12.993869</td>\n",
              "      <td>19.412518</td>\n",
              "      <td>2.667571</td>\n",
              "      <td>2.456892</td>\n",
              "      <td>74.191304</td>\n",
              "      <td>0.188044</td>\n",
              "      <td>0.207099</td>\n",
              "      <td>0.201528</td>\n",
              "      <td>0.210979</td>\n",
              "      <td>0.208598</td>\n",
              "      <td>0.205681</td>\n",
              "      <td>0.178159</td>\n",
              "      <td>0.200362</td>\n",
              "      <td>0.181868</td>\n",
              "      <td>0.186696</td>\n",
              "      <td>0.209424</td>\n",
              "      <td>0.209184</td>\n",
              "      <td>0.212940</td>\n",
              "      <td>0.222042</td>\n",
              "    </tr>\n",
              "    <tr>\n",
              "      <th>min</th>\n",
              "      <td>0.000000</td>\n",
              "      <td>0.000000</td>\n",
              "      <td>0.000000</td>\n",
              "      <td>0.000000</td>\n",
              "      <td>0.000000</td>\n",
              "      <td>0.000000</td>\n",
              "      <td>0.000000</td>\n",
              "      <td>0.000000</td>\n",
              "      <td>0.000000</td>\n",
              "      <td>0.000000</td>\n",
              "      <td>0.000000</td>\n",
              "      <td>0.000000</td>\n",
              "      <td>0.000000</td>\n",
              "      <td>0.000000</td>\n",
              "      <td>0.000000</td>\n",
              "      <td>0.000000</td>\n",
              "      <td>0.000000</td>\n",
              "      <td>0.000000</td>\n",
              "      <td>0.000000</td>\n",
              "      <td>0.000000</td>\n",
              "      <td>0.000000</td>\n",
              "      <td>0.000000</td>\n",
              "      <td>0.000000</td>\n",
              "      <td>0.000000</td>\n",
              "      <td>0.000000</td>\n",
              "      <td>0.000000</td>\n",
              "      <td>0.000000</td>\n",
              "      <td>0.000000</td>\n",
              "      <td>0.000000</td>\n",
              "      <td>0.000000</td>\n",
              "      <td>0.000000</td>\n",
              "      <td>0.000000</td>\n",
              "      <td>0.000000</td>\n",
              "      <td>0.000000</td>\n",
              "      <td>0.000000</td>\n",
              "      <td>0.000000</td>\n",
              "      <td>0.000000</td>\n",
              "      <td>0.000000</td>\n",
              "      <td>0.000000</td>\n",
              "      <td>0.000000</td>\n",
              "      <td>0.000000</td>\n",
              "      <td>0.000000</td>\n",
              "      <td>0.000000</td>\n",
              "      <td>0.000000</td>\n",
              "      <td>0.000000</td>\n",
              "      <td>0.000000</td>\n",
              "      <td>0.000000</td>\n",
              "      <td>0.000000</td>\n",
              "      <td>0.000000</td>\n",
              "      <td>0.000000</td>\n",
              "      <td>0.000000</td>\n",
              "      <td>0.000000</td>\n",
              "      <td>0.000000</td>\n",
              "      <td>0.000000</td>\n",
              "      <td>0.000000</td>\n",
              "      <td>0.000000</td>\n",
              "      <td>0.000000</td>\n",
              "      <td>0.000000</td>\n",
              "      <td>0.000000</td>\n",
              "      <td>0.000000</td>\n",
              "      <td>0.000000</td>\n",
              "      <td>0.000000</td>\n",
              "      <td>0.000000</td>\n",
              "      <td>0.000000</td>\n",
              "      <td>0.000000</td>\n",
              "      <td>0.000000</td>\n",
              "      <td>0.00000</td>\n",
              "      <td>0.000000</td>\n",
              "      <td>0.000000</td>\n",
              "      <td>0.000000</td>\n",
              "      <td>0.000000</td>\n",
              "      <td>0.000000</td>\n",
              "      <td>0.000000</td>\n",
              "      <td>0.000000</td>\n",
              "      <td>0.000000</td>\n",
              "      <td>0.000000</td>\n",
              "      <td>0.000000</td>\n",
              "      <td>0.000000</td>\n",
              "      <td>0.000000</td>\n",
              "      <td>0.000000</td>\n",
              "      <td>0.000000</td>\n",
              "      <td>0.000000</td>\n",
              "      <td>0.000000</td>\n",
              "      <td>0.000000</td>\n",
              "      <td>0.000000</td>\n",
              "      <td>0.000000</td>\n",
              "      <td>0.000000</td>\n",
              "      <td>0.000000</td>\n",
              "      <td>0.000000</td>\n",
              "      <td>0.000000</td>\n",
              "      <td>0.000000</td>\n",
              "      <td>0.000000</td>\n",
              "      <td>0.000000</td>\n",
              "      <td>0.000000</td>\n",
              "      <td>0.000000</td>\n",
              "      <td>0.000000</td>\n",
              "      <td>0.000000</td>\n",
              "      <td>0.000000</td>\n",
              "      <td>0.000000</td>\n",
              "      <td>0.000000</td>\n",
              "      <td>0.000000</td>\n",
              "      <td>0.000000</td>\n",
              "      <td>0.000000</td>\n",
              "      <td>0.000000</td>\n",
              "      <td>0.000000</td>\n",
              "      <td>0.000000</td>\n",
              "      <td>0.000000</td>\n",
              "      <td>0.000000</td>\n",
              "      <td>0.000000</td>\n",
              "      <td>0.000000</td>\n",
              "      <td>0.000000</td>\n",
              "      <td>0.000000</td>\n",
              "      <td>0.000000</td>\n",
              "      <td>0.000000</td>\n",
              "      <td>0.000000</td>\n",
              "      <td>2.000000</td>\n",
              "      <td>0.000016</td>\n",
              "      <td>0.001503</td>\n",
              "      <td>0.002634</td>\n",
              "      <td>0.176921</td>\n",
              "      <td>0.281143</td>\n",
              "      <td>0.012683</td>\n",
              "      <td>0.069503</td>\n",
              "      <td>0.236880</td>\n",
              "      <td>0.000080</td>\n",
              "      <td>0.000000</td>\n",
              "      <td>0.035321</td>\n",
              "      <td>0.036232</td>\n",
              "      <td>0.000228</td>\n",
              "      <td>0.180824</td>\n",
              "    </tr>\n",
              "    <tr>\n",
              "      <th>25%</th>\n",
              "      <td>0.000000</td>\n",
              "      <td>0.000000</td>\n",
              "      <td>0.000000</td>\n",
              "      <td>0.000000</td>\n",
              "      <td>0.000000</td>\n",
              "      <td>0.000000</td>\n",
              "      <td>0.000000</td>\n",
              "      <td>0.000000</td>\n",
              "      <td>0.000000</td>\n",
              "      <td>0.000000</td>\n",
              "      <td>0.000000</td>\n",
              "      <td>0.000000</td>\n",
              "      <td>0.000000</td>\n",
              "      <td>0.000000</td>\n",
              "      <td>0.000000</td>\n",
              "      <td>0.000000</td>\n",
              "      <td>0.000000</td>\n",
              "      <td>0.000000</td>\n",
              "      <td>0.000000</td>\n",
              "      <td>0.000000</td>\n",
              "      <td>0.000000</td>\n",
              "      <td>0.000000</td>\n",
              "      <td>0.000000</td>\n",
              "      <td>0.000000</td>\n",
              "      <td>0.000000</td>\n",
              "      <td>0.000000</td>\n",
              "      <td>0.000000</td>\n",
              "      <td>0.000000</td>\n",
              "      <td>0.000000</td>\n",
              "      <td>0.000000</td>\n",
              "      <td>0.000000</td>\n",
              "      <td>0.000000</td>\n",
              "      <td>0.000000</td>\n",
              "      <td>0.000000</td>\n",
              "      <td>0.000000</td>\n",
              "      <td>0.000000</td>\n",
              "      <td>0.000000</td>\n",
              "      <td>0.000000</td>\n",
              "      <td>0.000000</td>\n",
              "      <td>0.000000</td>\n",
              "      <td>0.000000</td>\n",
              "      <td>0.000000</td>\n",
              "      <td>0.000000</td>\n",
              "      <td>0.000000</td>\n",
              "      <td>0.000000</td>\n",
              "      <td>0.000000</td>\n",
              "      <td>0.000000</td>\n",
              "      <td>0.000000</td>\n",
              "      <td>0.000000</td>\n",
              "      <td>0.000000</td>\n",
              "      <td>0.000000</td>\n",
              "      <td>0.000000</td>\n",
              "      <td>0.000000</td>\n",
              "      <td>0.000000</td>\n",
              "      <td>0.000000</td>\n",
              "      <td>0.000000</td>\n",
              "      <td>0.000000</td>\n",
              "      <td>0.000000</td>\n",
              "      <td>0.000000</td>\n",
              "      <td>0.000000</td>\n",
              "      <td>0.000000</td>\n",
              "      <td>0.000000</td>\n",
              "      <td>0.000000</td>\n",
              "      <td>0.000000</td>\n",
              "      <td>0.000000</td>\n",
              "      <td>0.000000</td>\n",
              "      <td>0.00000</td>\n",
              "      <td>0.000000</td>\n",
              "      <td>0.000000</td>\n",
              "      <td>0.000000</td>\n",
              "      <td>0.000000</td>\n",
              "      <td>0.000000</td>\n",
              "      <td>0.000000</td>\n",
              "      <td>0.000000</td>\n",
              "      <td>0.000000</td>\n",
              "      <td>0.000000</td>\n",
              "      <td>3.000000</td>\n",
              "      <td>1.000000</td>\n",
              "      <td>1.000000</td>\n",
              "      <td>1.000000</td>\n",
              "      <td>3.000000</td>\n",
              "      <td>1.000000</td>\n",
              "      <td>1.000000</td>\n",
              "      <td>2.000000</td>\n",
              "      <td>1.000000</td>\n",
              "      <td>1.000000</td>\n",
              "      <td>1.000000</td>\n",
              "      <td>0.000000</td>\n",
              "      <td>0.000000</td>\n",
              "      <td>0.000000</td>\n",
              "      <td>0.000000</td>\n",
              "      <td>0.000000</td>\n",
              "      <td>3.000000</td>\n",
              "      <td>1.000000</td>\n",
              "      <td>2.000000</td>\n",
              "      <td>4.000000</td>\n",
              "      <td>2.000000</td>\n",
              "      <td>0.000000</td>\n",
              "      <td>12.000000</td>\n",
              "      <td>5.000000</td>\n",
              "      <td>0.000000</td>\n",
              "      <td>0.000000</td>\n",
              "      <td>0.000000</td>\n",
              "      <td>4.000000</td>\n",
              "      <td>4.000000</td>\n",
              "      <td>5.000000</td>\n",
              "      <td>5.000000</td>\n",
              "      <td>1.000000</td>\n",
              "      <td>33.000000</td>\n",
              "      <td>60.000000</td>\n",
              "      <td>0.000000</td>\n",
              "      <td>11.000000</td>\n",
              "      <td>10.000000</td>\n",
              "      <td>0.000000</td>\n",
              "      <td>10.000000</td>\n",
              "      <td>79.000000</td>\n",
              "      <td>0.347403</td>\n",
              "      <td>0.358319</td>\n",
              "      <td>0.336963</td>\n",
              "      <td>0.327354</td>\n",
              "      <td>0.281143</td>\n",
              "      <td>0.336105</td>\n",
              "      <td>0.351749</td>\n",
              "      <td>0.317960</td>\n",
              "      <td>0.360910</td>\n",
              "      <td>0.364580</td>\n",
              "      <td>0.314313</td>\n",
              "      <td>0.318249</td>\n",
              "      <td>0.315758</td>\n",
              "      <td>0.294576</td>\n",
              "    </tr>\n",
              "    <tr>\n",
              "      <th>50%</th>\n",
              "      <td>0.000000</td>\n",
              "      <td>0.000000</td>\n",
              "      <td>0.000000</td>\n",
              "      <td>0.000000</td>\n",
              "      <td>0.000000</td>\n",
              "      <td>0.000000</td>\n",
              "      <td>0.000000</td>\n",
              "      <td>0.000000</td>\n",
              "      <td>0.000000</td>\n",
              "      <td>0.000000</td>\n",
              "      <td>0.000000</td>\n",
              "      <td>0.000000</td>\n",
              "      <td>0.000000</td>\n",
              "      <td>0.000000</td>\n",
              "      <td>0.000000</td>\n",
              "      <td>0.000000</td>\n",
              "      <td>0.000000</td>\n",
              "      <td>0.000000</td>\n",
              "      <td>0.000000</td>\n",
              "      <td>0.000000</td>\n",
              "      <td>0.000000</td>\n",
              "      <td>0.000000</td>\n",
              "      <td>0.000000</td>\n",
              "      <td>0.000000</td>\n",
              "      <td>0.000000</td>\n",
              "      <td>0.000000</td>\n",
              "      <td>0.000000</td>\n",
              "      <td>0.000000</td>\n",
              "      <td>0.000000</td>\n",
              "      <td>0.000000</td>\n",
              "      <td>0.000000</td>\n",
              "      <td>0.000000</td>\n",
              "      <td>0.000000</td>\n",
              "      <td>0.000000</td>\n",
              "      <td>0.000000</td>\n",
              "      <td>0.000000</td>\n",
              "      <td>0.000000</td>\n",
              "      <td>0.000000</td>\n",
              "      <td>0.000000</td>\n",
              "      <td>0.000000</td>\n",
              "      <td>0.000000</td>\n",
              "      <td>0.000000</td>\n",
              "      <td>0.000000</td>\n",
              "      <td>0.000000</td>\n",
              "      <td>0.000000</td>\n",
              "      <td>0.000000</td>\n",
              "      <td>0.000000</td>\n",
              "      <td>0.000000</td>\n",
              "      <td>0.000000</td>\n",
              "      <td>0.000000</td>\n",
              "      <td>0.000000</td>\n",
              "      <td>0.000000</td>\n",
              "      <td>0.000000</td>\n",
              "      <td>0.000000</td>\n",
              "      <td>0.000000</td>\n",
              "      <td>0.000000</td>\n",
              "      <td>0.000000</td>\n",
              "      <td>0.000000</td>\n",
              "      <td>0.000000</td>\n",
              "      <td>0.000000</td>\n",
              "      <td>0.000000</td>\n",
              "      <td>0.000000</td>\n",
              "      <td>0.000000</td>\n",
              "      <td>0.000000</td>\n",
              "      <td>0.000000</td>\n",
              "      <td>0.000000</td>\n",
              "      <td>0.00000</td>\n",
              "      <td>0.000000</td>\n",
              "      <td>0.000000</td>\n",
              "      <td>0.000000</td>\n",
              "      <td>0.000000</td>\n",
              "      <td>0.000000</td>\n",
              "      <td>0.000000</td>\n",
              "      <td>0.000000</td>\n",
              "      <td>0.000000</td>\n",
              "      <td>0.000000</td>\n",
              "      <td>3.000000</td>\n",
              "      <td>1.000000</td>\n",
              "      <td>1.000000</td>\n",
              "      <td>3.000000</td>\n",
              "      <td>3.000000</td>\n",
              "      <td>1.000000</td>\n",
              "      <td>1.000000</td>\n",
              "      <td>2.000000</td>\n",
              "      <td>1.000000</td>\n",
              "      <td>1.000000</td>\n",
              "      <td>1.000000</td>\n",
              "      <td>0.000000</td>\n",
              "      <td>0.000000</td>\n",
              "      <td>0.000000</td>\n",
              "      <td>0.000000</td>\n",
              "      <td>0.000000</td>\n",
              "      <td>3.000000</td>\n",
              "      <td>3.000000</td>\n",
              "      <td>3.000000</td>\n",
              "      <td>4.000000</td>\n",
              "      <td>2.000000</td>\n",
              "      <td>0.000000</td>\n",
              "      <td>12.000000</td>\n",
              "      <td>8.000000</td>\n",
              "      <td>0.000000</td>\n",
              "      <td>0.000000</td>\n",
              "      <td>0.000000</td>\n",
              "      <td>5.000000</td>\n",
              "      <td>5.000000</td>\n",
              "      <td>6.000000</td>\n",
              "      <td>7.000000</td>\n",
              "      <td>4.000000</td>\n",
              "      <td>33.000000</td>\n",
              "      <td>67.000000</td>\n",
              "      <td>0.000000</td>\n",
              "      <td>23.000000</td>\n",
              "      <td>38.000000</td>\n",
              "      <td>0.000000</td>\n",
              "      <td>12.000000</td>\n",
              "      <td>161.000000</td>\n",
              "      <td>0.475784</td>\n",
              "      <td>0.555782</td>\n",
              "      <td>0.527991</td>\n",
              "      <td>0.452887</td>\n",
              "      <td>0.422268</td>\n",
              "      <td>0.440945</td>\n",
              "      <td>0.438771</td>\n",
              "      <td>0.441060</td>\n",
              "      <td>0.441450</td>\n",
              "      <td>0.461190</td>\n",
              "      <td>0.461077</td>\n",
              "      <td>0.462286</td>\n",
              "      <td>0.369740</td>\n",
              "      <td>0.403377</td>\n",
              "    </tr>\n",
              "    <tr>\n",
              "      <th>75%</th>\n",
              "      <td>1.000000</td>\n",
              "      <td>1.000000</td>\n",
              "      <td>0.000000</td>\n",
              "      <td>1.000000</td>\n",
              "      <td>1.000000</td>\n",
              "      <td>1.000000</td>\n",
              "      <td>0.000000</td>\n",
              "      <td>0.000000</td>\n",
              "      <td>1.000000</td>\n",
              "      <td>0.000000</td>\n",
              "      <td>0.000000</td>\n",
              "      <td>0.000000</td>\n",
              "      <td>0.000000</td>\n",
              "      <td>0.000000</td>\n",
              "      <td>0.000000</td>\n",
              "      <td>0.000000</td>\n",
              "      <td>0.000000</td>\n",
              "      <td>0.000000</td>\n",
              "      <td>0.000000</td>\n",
              "      <td>0.000000</td>\n",
              "      <td>0.000000</td>\n",
              "      <td>0.000000</td>\n",
              "      <td>0.000000</td>\n",
              "      <td>0.000000</td>\n",
              "      <td>0.000000</td>\n",
              "      <td>0.000000</td>\n",
              "      <td>0.000000</td>\n",
              "      <td>0.000000</td>\n",
              "      <td>0.000000</td>\n",
              "      <td>0.000000</td>\n",
              "      <td>0.000000</td>\n",
              "      <td>0.000000</td>\n",
              "      <td>0.000000</td>\n",
              "      <td>0.000000</td>\n",
              "      <td>0.000000</td>\n",
              "      <td>0.000000</td>\n",
              "      <td>0.000000</td>\n",
              "      <td>0.000000</td>\n",
              "      <td>0.000000</td>\n",
              "      <td>0.000000</td>\n",
              "      <td>0.000000</td>\n",
              "      <td>0.000000</td>\n",
              "      <td>0.000000</td>\n",
              "      <td>0.000000</td>\n",
              "      <td>0.000000</td>\n",
              "      <td>0.000000</td>\n",
              "      <td>0.000000</td>\n",
              "      <td>0.000000</td>\n",
              "      <td>0.000000</td>\n",
              "      <td>1.000000</td>\n",
              "      <td>0.000000</td>\n",
              "      <td>0.000000</td>\n",
              "      <td>0.000000</td>\n",
              "      <td>0.000000</td>\n",
              "      <td>0.000000</td>\n",
              "      <td>0.000000</td>\n",
              "      <td>0.000000</td>\n",
              "      <td>0.000000</td>\n",
              "      <td>0.000000</td>\n",
              "      <td>0.000000</td>\n",
              "      <td>0.000000</td>\n",
              "      <td>0.000000</td>\n",
              "      <td>0.000000</td>\n",
              "      <td>0.000000</td>\n",
              "      <td>0.000000</td>\n",
              "      <td>0.000000</td>\n",
              "      <td>0.00000</td>\n",
              "      <td>0.000000</td>\n",
              "      <td>0.000000</td>\n",
              "      <td>0.000000</td>\n",
              "      <td>0.000000</td>\n",
              "      <td>1.000000</td>\n",
              "      <td>0.000000</td>\n",
              "      <td>0.000000</td>\n",
              "      <td>0.000000</td>\n",
              "      <td>0.000000</td>\n",
              "      <td>3.000000</td>\n",
              "      <td>1.000000</td>\n",
              "      <td>1.000000</td>\n",
              "      <td>3.000000</td>\n",
              "      <td>3.000000</td>\n",
              "      <td>1.000000</td>\n",
              "      <td>1.000000</td>\n",
              "      <td>2.000000</td>\n",
              "      <td>1.000000</td>\n",
              "      <td>3.000000</td>\n",
              "      <td>1.000000</td>\n",
              "      <td>0.000000</td>\n",
              "      <td>0.000000</td>\n",
              "      <td>0.000000</td>\n",
              "      <td>1.000000</td>\n",
              "      <td>5.000000</td>\n",
              "      <td>3.000000</td>\n",
              "      <td>3.000000</td>\n",
              "      <td>3.000000</td>\n",
              "      <td>4.000000</td>\n",
              "      <td>4.000000</td>\n",
              "      <td>3.000000</td>\n",
              "      <td>15.000000</td>\n",
              "      <td>10.000000</td>\n",
              "      <td>5.000000</td>\n",
              "      <td>0.000000</td>\n",
              "      <td>1.000000</td>\n",
              "      <td>7.000000</td>\n",
              "      <td>5.000000</td>\n",
              "      <td>8.000000</td>\n",
              "      <td>9.000000</td>\n",
              "      <td>8.000000</td>\n",
              "      <td>33.000000</td>\n",
              "      <td>102.000000</td>\n",
              "      <td>2.000000</td>\n",
              "      <td>35.000000</td>\n",
              "      <td>48.000000</td>\n",
              "      <td>2.000000</td>\n",
              "      <td>14.000000</td>\n",
              "      <td>191.000000</td>\n",
              "      <td>0.626630</td>\n",
              "      <td>0.681761</td>\n",
              "      <td>0.634224</td>\n",
              "      <td>0.661283</td>\n",
              "      <td>0.635304</td>\n",
              "      <td>0.659789</td>\n",
              "      <td>0.591761</td>\n",
              "      <td>0.629180</td>\n",
              "      <td>0.573000</td>\n",
              "      <td>0.619840</td>\n",
              "      <td>0.678924</td>\n",
              "      <td>0.679096</td>\n",
              "      <td>0.689974</td>\n",
              "      <td>0.724273</td>\n",
              "    </tr>\n",
              "    <tr>\n",
              "      <th>max</th>\n",
              "      <td>1.000000</td>\n",
              "      <td>1.000000</td>\n",
              "      <td>1.000000</td>\n",
              "      <td>1.000000</td>\n",
              "      <td>1.000000</td>\n",
              "      <td>1.000000</td>\n",
              "      <td>1.000000</td>\n",
              "      <td>1.000000</td>\n",
              "      <td>1.000000</td>\n",
              "      <td>1.000000</td>\n",
              "      <td>1.000000</td>\n",
              "      <td>1.000000</td>\n",
              "      <td>1.000000</td>\n",
              "      <td>1.000000</td>\n",
              "      <td>1.000000</td>\n",
              "      <td>1.000000</td>\n",
              "      <td>1.000000</td>\n",
              "      <td>1.000000</td>\n",
              "      <td>1.000000</td>\n",
              "      <td>1.000000</td>\n",
              "      <td>1.000000</td>\n",
              "      <td>1.000000</td>\n",
              "      <td>1.000000</td>\n",
              "      <td>1.000000</td>\n",
              "      <td>1.000000</td>\n",
              "      <td>1.000000</td>\n",
              "      <td>1.000000</td>\n",
              "      <td>1.000000</td>\n",
              "      <td>1.000000</td>\n",
              "      <td>1.000000</td>\n",
              "      <td>1.000000</td>\n",
              "      <td>1.000000</td>\n",
              "      <td>1.000000</td>\n",
              "      <td>1.000000</td>\n",
              "      <td>1.000000</td>\n",
              "      <td>1.000000</td>\n",
              "      <td>1.000000</td>\n",
              "      <td>1.000000</td>\n",
              "      <td>1.000000</td>\n",
              "      <td>1.000000</td>\n",
              "      <td>1.000000</td>\n",
              "      <td>1.000000</td>\n",
              "      <td>1.000000</td>\n",
              "      <td>1.000000</td>\n",
              "      <td>1.000000</td>\n",
              "      <td>1.000000</td>\n",
              "      <td>1.000000</td>\n",
              "      <td>1.000000</td>\n",
              "      <td>1.000000</td>\n",
              "      <td>1.000000</td>\n",
              "      <td>1.000000</td>\n",
              "      <td>1.000000</td>\n",
              "      <td>1.000000</td>\n",
              "      <td>1.000000</td>\n",
              "      <td>1.000000</td>\n",
              "      <td>1.000000</td>\n",
              "      <td>1.000000</td>\n",
              "      <td>1.000000</td>\n",
              "      <td>1.000000</td>\n",
              "      <td>1.000000</td>\n",
              "      <td>1.000000</td>\n",
              "      <td>1.000000</td>\n",
              "      <td>1.000000</td>\n",
              "      <td>1.000000</td>\n",
              "      <td>1.000000</td>\n",
              "      <td>1.000000</td>\n",
              "      <td>1.00000</td>\n",
              "      <td>1.000000</td>\n",
              "      <td>1.000000</td>\n",
              "      <td>1.000000</td>\n",
              "      <td>1.000000</td>\n",
              "      <td>1.000000</td>\n",
              "      <td>2.000000</td>\n",
              "      <td>2.000000</td>\n",
              "      <td>1.000000</td>\n",
              "      <td>2.000000</td>\n",
              "      <td>3.000000</td>\n",
              "      <td>3.000000</td>\n",
              "      <td>3.000000</td>\n",
              "      <td>3.000000</td>\n",
              "      <td>3.000000</td>\n",
              "      <td>3.000000</td>\n",
              "      <td>3.000000</td>\n",
              "      <td>3.000000</td>\n",
              "      <td>3.000000</td>\n",
              "      <td>3.000000</td>\n",
              "      <td>3.000000</td>\n",
              "      <td>3.000000</td>\n",
              "      <td>4.000000</td>\n",
              "      <td>4.000000</td>\n",
              "      <td>7.000000</td>\n",
              "      <td>6.000000</td>\n",
              "      <td>4.000000</td>\n",
              "      <td>6.000000</td>\n",
              "      <td>4.000000</td>\n",
              "      <td>7.000000</td>\n",
              "      <td>6.000000</td>\n",
              "      <td>4.000000</td>\n",
              "      <td>15.000000</td>\n",
              "      <td>14.000000</td>\n",
              "      <td>17.000000</td>\n",
              "      <td>6.000000</td>\n",
              "      <td>11.000000</td>\n",
              "      <td>15.000000</td>\n",
              "      <td>18.000000</td>\n",
              "      <td>16.000000</td>\n",
              "      <td>19.000000</td>\n",
              "      <td>10.000000</td>\n",
              "      <td>82.000000</td>\n",
              "      <td>130.000000</td>\n",
              "      <td>14.000000</td>\n",
              "      <td>50.000000</td>\n",
              "      <td>60.000000</td>\n",
              "      <td>16.000000</td>\n",
              "      <td>21.000000</td>\n",
              "      <td>325.000000</td>\n",
              "      <td>0.984975</td>\n",
              "      <td>0.862654</td>\n",
              "      <td>0.944251</td>\n",
              "      <td>0.954297</td>\n",
              "      <td>0.982520</td>\n",
              "      <td>0.997162</td>\n",
              "      <td>1.000000</td>\n",
              "      <td>0.980200</td>\n",
              "      <td>0.995400</td>\n",
              "      <td>0.994980</td>\n",
              "      <td>0.998702</td>\n",
              "      <td>0.998437</td>\n",
              "      <td>0.988494</td>\n",
              "      <td>0.844729</td>\n",
              "    </tr>\n",
              "  </tbody>\n",
              "</table>\n",
              "</div>"
            ],
            "text/plain": [
              "               cat1          cat2          cat3          cat4          cat5  \\\n",
              "count  38318.000000  38318.000000  38318.000000  38318.000000  38318.000000   \n",
              "mean       0.252362      0.433034      0.054309      0.321181      0.345269   \n",
              "std        0.434373      0.495502      0.226629      0.466936      0.475462   \n",
              "min        0.000000      0.000000      0.000000      0.000000      0.000000   \n",
              "25%        0.000000      0.000000      0.000000      0.000000      0.000000   \n",
              "50%        0.000000      0.000000      0.000000      0.000000      0.000000   \n",
              "75%        1.000000      1.000000      0.000000      1.000000      1.000000   \n",
              "max        1.000000      1.000000      1.000000      1.000000      1.000000   \n",
              "\n",
              "               cat6          cat7          cat8          cat9         cat10  \\\n",
              "count  38318.000000  38318.000000  38318.000000  38318.000000  38318.000000   \n",
              "mean       0.297510      0.023227      0.057780      0.399316      0.148833   \n",
              "std        0.457169      0.150625      0.233329      0.489764      0.355929   \n",
              "min        0.000000      0.000000      0.000000      0.000000      0.000000   \n",
              "25%        0.000000      0.000000      0.000000      0.000000      0.000000   \n",
              "50%        0.000000      0.000000      0.000000      0.000000      0.000000   \n",
              "75%        1.000000      0.000000      0.000000      1.000000      0.000000   \n",
              "max        1.000000      1.000000      1.000000      1.000000      1.000000   \n",
              "\n",
              "              cat11         cat12         cat13         cat14         cat15  \\\n",
              "count  38318.000000  38318.000000  38318.000000  38318.000000  38318.000000   \n",
              "mean       0.106582      0.152200      0.101702      0.011848      0.000130   \n",
              "std        0.308585      0.359219      0.302259      0.108204      0.011422   \n",
              "min        0.000000      0.000000      0.000000      0.000000      0.000000   \n",
              "25%        0.000000      0.000000      0.000000      0.000000      0.000000   \n",
              "50%        0.000000      0.000000      0.000000      0.000000      0.000000   \n",
              "75%        0.000000      0.000000      0.000000      0.000000      0.000000   \n",
              "max        1.000000      1.000000      1.000000      1.000000      1.000000   \n",
              "\n",
              "              cat16         cat17         cat18         cat19         cat20  \\\n",
              "count  38318.000000  38318.000000  38318.000000  38318.000000  38318.000000   \n",
              "mean       0.034005      0.006655      0.004671      0.010178      0.000966   \n",
              "std        0.181244      0.081306      0.068189      0.100373      0.031060   \n",
              "min        0.000000      0.000000      0.000000      0.000000      0.000000   \n",
              "25%        0.000000      0.000000      0.000000      0.000000      0.000000   \n",
              "50%        0.000000      0.000000      0.000000      0.000000      0.000000   \n",
              "75%        0.000000      0.000000      0.000000      0.000000      0.000000   \n",
              "max        1.000000      1.000000      1.000000      1.000000      1.000000   \n",
              "\n",
              "              cat21         cat22         cat23         cat24         cat25  \\\n",
              "count  38318.000000  38318.000000  38318.000000  38318.000000  38318.000000   \n",
              "mean       0.002192      0.000157      0.163578      0.033222      0.098178   \n",
              "std        0.046770      0.012513      0.369897      0.179218      0.297560   \n",
              "min        0.000000      0.000000      0.000000      0.000000      0.000000   \n",
              "25%        0.000000      0.000000      0.000000      0.000000      0.000000   \n",
              "50%        0.000000      0.000000      0.000000      0.000000      0.000000   \n",
              "75%        0.000000      0.000000      0.000000      0.000000      0.000000   \n",
              "max        1.000000      1.000000      1.000000      1.000000      1.000000   \n",
              "\n",
              "              cat26         cat27         cat28         cat29         cat30  \\\n",
              "count  38318.000000  38318.000000  38318.000000  38318.000000  38318.000000   \n",
              "mean       0.061694      0.108643      0.038546      0.019938      0.019625   \n",
              "std        0.240603      0.311195      0.192512      0.139790      0.138710   \n",
              "min        0.000000      0.000000      0.000000      0.000000      0.000000   \n",
              "25%        0.000000      0.000000      0.000000      0.000000      0.000000   \n",
              "50%        0.000000      0.000000      0.000000      0.000000      0.000000   \n",
              "75%        0.000000      0.000000      0.000000      0.000000      0.000000   \n",
              "max        1.000000      1.000000      1.000000      1.000000      1.000000   \n",
              "\n",
              "              cat31         cat32         cat33         cat34         cat35  \\\n",
              "count  38318.000000  38318.000000  38318.000000  38318.000000  38318.000000   \n",
              "mean       0.028707      0.005820      0.005298      0.003288      0.001096   \n",
              "std        0.166984      0.076066      0.072594      0.057250      0.033090   \n",
              "min        0.000000      0.000000      0.000000      0.000000      0.000000   \n",
              "25%        0.000000      0.000000      0.000000      0.000000      0.000000   \n",
              "50%        0.000000      0.000000      0.000000      0.000000      0.000000   \n",
              "75%        0.000000      0.000000      0.000000      0.000000      0.000000   \n",
              "max        1.000000      1.000000      1.000000      1.000000      1.000000   \n",
              "\n",
              "              cat36         cat37         cat38         cat39         cat40  \\\n",
              "count  38318.000000  38318.000000  38318.000000  38318.000000  38318.000000   \n",
              "mean       0.171042      0.119396      0.103111      0.025836      0.043504   \n",
              "std        0.376551      0.324258      0.304108      0.158649      0.203992   \n",
              "min        0.000000      0.000000      0.000000      0.000000      0.000000   \n",
              "25%        0.000000      0.000000      0.000000      0.000000      0.000000   \n",
              "50%        0.000000      0.000000      0.000000      0.000000      0.000000   \n",
              "75%        0.000000      0.000000      0.000000      0.000000      0.000000   \n",
              "max        1.000000      1.000000      1.000000      1.000000      1.000000   \n",
              "\n",
              "              cat41         cat42         cat43         cat44         cat45  \\\n",
              "count  38318.000000  38318.000000  38318.000000  38318.000000  38318.000000   \n",
              "mean       0.037815      0.009134      0.021739      0.084347      0.023305   \n",
              "std        0.190751      0.095136      0.145832      0.277911      0.150872   \n",
              "min        0.000000      0.000000      0.000000      0.000000      0.000000   \n",
              "25%        0.000000      0.000000      0.000000      0.000000      0.000000   \n",
              "50%        0.000000      0.000000      0.000000      0.000000      0.000000   \n",
              "75%        0.000000      0.000000      0.000000      0.000000      0.000000   \n",
              "max        1.000000      1.000000      1.000000      1.000000      1.000000   \n",
              "\n",
              "              cat46         cat47         cat48         cat49         cat50  \\\n",
              "count  38318.000000  38318.000000  38318.000000  38318.000000  38318.000000   \n",
              "mean       0.005115      0.003967      0.001409      0.048411      0.267081   \n",
              "std        0.071338      0.062858      0.037514      0.214635      0.442441   \n",
              "min        0.000000      0.000000      0.000000      0.000000      0.000000   \n",
              "25%        0.000000      0.000000      0.000000      0.000000      0.000000   \n",
              "50%        0.000000      0.000000      0.000000      0.000000      0.000000   \n",
              "75%        0.000000      0.000000      0.000000      0.000000      1.000000   \n",
              "max        1.000000      1.000000      1.000000      1.000000      1.000000   \n",
              "\n",
              "              cat51         cat52         cat53         cat54         cat55  \\\n",
              "count  38318.000000  38318.000000  38318.000000  38318.000000  38318.000000   \n",
              "mean       0.006472      0.046819      0.079780      0.023096      0.000600   \n",
              "std        0.080190      0.211253      0.270955      0.150211      0.024493   \n",
              "min        0.000000      0.000000      0.000000      0.000000      0.000000   \n",
              "25%        0.000000      0.000000      0.000000      0.000000      0.000000   \n",
              "50%        0.000000      0.000000      0.000000      0.000000      0.000000   \n",
              "75%        0.000000      0.000000      0.000000      0.000000      0.000000   \n",
              "max        1.000000      1.000000      1.000000      1.000000      1.000000   \n",
              "\n",
              "              cat56         cat57         cat58         cat59         cat60  \\\n",
              "count  38318.000000  38318.000000  38318.000000  38318.000000  38318.000000   \n",
              "mean       0.000992      0.015371      0.000992      0.001566      0.002166   \n",
              "std        0.031476      0.123026      0.031476      0.039540      0.046491   \n",
              "min        0.000000      0.000000      0.000000      0.000000      0.000000   \n",
              "25%        0.000000      0.000000      0.000000      0.000000      0.000000   \n",
              "50%        0.000000      0.000000      0.000000      0.000000      0.000000   \n",
              "75%        0.000000      0.000000      0.000000      0.000000      0.000000   \n",
              "max        1.000000      1.000000      1.000000      1.000000      1.000000   \n",
              "\n",
              "              cat61         cat62         cat63         cat64         cat65  \\\n",
              "count  38318.000000  38318.000000  38318.000000  38318.000000  38318.000000   \n",
              "mean       0.004045      0.000104      0.000313      0.000183      0.011639   \n",
              "std        0.063473      0.010217      0.017694      0.013515      0.107258   \n",
              "min        0.000000      0.000000      0.000000      0.000000      0.000000   \n",
              "25%        0.000000      0.000000      0.000000      0.000000      0.000000   \n",
              "50%        0.000000      0.000000      0.000000      0.000000      0.000000   \n",
              "75%        0.000000      0.000000      0.000000      0.000000      0.000000   \n",
              "max        1.000000      1.000000      1.000000      1.000000      1.000000   \n",
              "\n",
              "              cat66        cat67         cat68         cat69         cat70  \\\n",
              "count  38318.000000  38318.00000  38318.000000  38318.000000  38318.000000   \n",
              "mean       0.043609      0.00381      0.000731      0.001644      0.000130   \n",
              "std        0.204226      0.06161      0.027022      0.040515      0.011422   \n",
              "min        0.000000      0.00000      0.000000      0.000000      0.000000   \n",
              "25%        0.000000      0.00000      0.000000      0.000000      0.000000   \n",
              "50%        0.000000      0.00000      0.000000      0.000000      0.000000   \n",
              "75%        0.000000      0.00000      0.000000      0.000000      0.000000   \n",
              "max        1.000000      1.00000      1.000000      1.000000      1.000000   \n",
              "\n",
              "              cat71         cat72         cat73         cat74         cat75  \\\n",
              "count  38318.000000  38318.000000  38318.000000  38318.000000  38318.000000   \n",
              "mean       0.051516      0.371836      0.184274      0.019182      0.181351   \n",
              "std        0.221051      0.483301      0.388183      0.138490      0.385314   \n",
              "min        0.000000      0.000000      0.000000      0.000000      0.000000   \n",
              "25%        0.000000      0.000000      0.000000      0.000000      0.000000   \n",
              "50%        0.000000      0.000000      0.000000      0.000000      0.000000   \n",
              "75%        0.000000      1.000000      0.000000      0.000000      0.000000   \n",
              "max        1.000000      1.000000      2.000000      2.000000      1.000000   \n",
              "\n",
              "              cat76         cat77         cat78         cat79         cat80  \\\n",
              "count  38318.000000  38318.000000  38318.000000  38318.000000  38318.000000   \n",
              "mean       0.042904      2.992667      1.003393      1.253014      2.469257   \n",
              "std        0.224284      0.114340      0.129397      0.738864      0.880454   \n",
              "min        0.000000      0.000000      0.000000      0.000000      0.000000   \n",
              "25%        0.000000      3.000000      1.000000      1.000000      1.000000   \n",
              "50%        0.000000      3.000000      1.000000      1.000000      3.000000   \n",
              "75%        0.000000      3.000000      1.000000      1.000000      3.000000   \n",
              "max        2.000000      3.000000      3.000000      3.000000      3.000000   \n",
              "\n",
              "              cat81         cat82         cat83         cat84         cat85  \\\n",
              "count  38318.000000  38318.000000  38318.000000  38318.000000  38318.000000   \n",
              "mean       2.685422      1.112219      1.061068      1.706561      1.005872   \n",
              "std        0.703955      0.712236      0.705899      0.744434      0.142280   \n",
              "min        0.000000      0.000000      0.000000      0.000000      0.000000   \n",
              "25%        3.000000      1.000000      1.000000      2.000000      1.000000   \n",
              "50%        3.000000      1.000000      1.000000      2.000000      1.000000   \n",
              "75%        3.000000      1.000000      1.000000      2.000000      1.000000   \n",
              "max        3.000000      3.000000      3.000000      3.000000      3.000000   \n",
              "\n",
              "              cat86         cat87         cat88         cat89         cat90  \\\n",
              "count  38318.000000  38318.000000  38318.000000  38318.000000  38318.000000   \n",
              "mean       1.826348      1.167206      0.208283      0.024740      0.058824   \n",
              "std        0.969274      0.521824      0.611772      0.166211      0.255810   \n",
              "min        0.000000      0.000000      0.000000      0.000000      0.000000   \n",
              "25%        1.000000      1.000000      0.000000      0.000000      0.000000   \n",
              "50%        1.000000      1.000000      0.000000      0.000000      0.000000   \n",
              "75%        3.000000      1.000000      0.000000      0.000000      0.000000   \n",
              "max        3.000000      3.000000      3.000000      4.000000      4.000000   \n",
              "\n",
              "              cat91         cat92         cat93         cat94         cat95  \\\n",
              "count  38318.000000  38318.000000  38318.000000  38318.000000  38318.000000   \n",
              "mean       1.177671      1.684091      2.792160      2.376011      2.564069   \n",
              "std        2.055106      2.359981      0.445675      0.904882      0.740667   \n",
              "min        0.000000      0.000000      0.000000      0.000000      0.000000   \n",
              "25%        0.000000      0.000000      3.000000      1.000000      2.000000   \n",
              "50%        0.000000      0.000000      3.000000      3.000000      3.000000   \n",
              "75%        1.000000      5.000000      3.000000      3.000000      3.000000   \n",
              "max        7.000000      6.000000      4.000000      6.000000      4.000000   \n",
              "\n",
              "              cat96         cat97         cat98         cat99        cat100  \\\n",
              "count  38318.000000  38318.000000  38318.000000  38318.000000  38318.000000   \n",
              "mean       3.940602      2.444569      1.267785     12.476721      7.434704   \n",
              "std        0.486013      1.779913      1.476378      3.389723      3.334561   \n",
              "min        0.000000      0.000000      0.000000      0.000000      0.000000   \n",
              "25%        4.000000      2.000000      0.000000     12.000000      5.000000   \n",
              "50%        4.000000      2.000000      0.000000     12.000000      8.000000   \n",
              "75%        4.000000      4.000000      3.000000     15.000000     10.000000   \n",
              "max        7.000000      6.000000      4.000000     15.000000     14.000000   \n",
              "\n",
              "             cat101        cat102        cat103        cat104        cat105  \\\n",
              "count  38318.000000  38318.000000  38318.000000  38318.000000  38318.000000   \n",
              "mean       2.549298      0.097213      0.649721      5.578736      4.776737   \n",
              "std        3.822272      0.435010      1.140593      2.316051      1.169385   \n",
              "min        0.000000      0.000000      0.000000      0.000000      0.000000   \n",
              "25%        0.000000      0.000000      0.000000      4.000000      4.000000   \n",
              "50%        0.000000      0.000000      0.000000      5.000000      5.000000   \n",
              "75%        5.000000      0.000000      1.000000      7.000000      5.000000   \n",
              "max       17.000000      6.000000     11.000000     15.000000     18.000000   \n",
              "\n",
              "             cat106        cat107        cat108        cat109        cat110  \\\n",
              "count  38318.000000  38318.000000  38318.000000  38318.000000  38318.000000   \n",
              "mean       6.650060      6.997129      4.545775     30.793152     73.611123   \n",
              "std        1.756586      2.185774      3.643097     12.452406     29.478887   \n",
              "min        0.000000      0.000000      0.000000      0.000000      0.000000   \n",
              "25%        5.000000      5.000000      1.000000     33.000000     60.000000   \n",
              "50%        6.000000      7.000000      4.000000     33.000000     67.000000   \n",
              "75%        8.000000      9.000000      8.000000     33.000000    102.000000   \n",
              "max       16.000000     19.000000     10.000000     82.000000    130.000000   \n",
              "\n",
              "             cat111        cat112        cat113        cat114        cat115  \\\n",
              "count  38318.000000  38318.000000  38318.000000  38318.000000  38318.000000   \n",
              "mean       1.124615     23.801138     31.242079      1.438645     11.824860   \n",
              "std        1.969507     12.993869     19.412518      2.667571      2.456892   \n",
              "min        0.000000      0.000000      0.000000      0.000000      0.000000   \n",
              "25%        0.000000     11.000000     10.000000      0.000000     10.000000   \n",
              "50%        0.000000     23.000000     38.000000      0.000000     12.000000   \n",
              "75%        2.000000     35.000000     48.000000      2.000000     14.000000   \n",
              "max       14.000000     50.000000     60.000000     16.000000     21.000000   \n",
              "\n",
              "             cat116         cont1         cont2         cont3         cont4  \\\n",
              "count  38318.000000  38318.000000  38318.000000  38318.000000  38318.000000   \n",
              "mean     152.685161      0.494649      0.506672      0.498638      0.491851   \n",
              "std       74.191304      0.188044      0.207099      0.201528      0.210979   \n",
              "min        2.000000      0.000016      0.001503      0.002634      0.176921   \n",
              "25%       79.000000      0.347403      0.358319      0.336963      0.327354   \n",
              "50%      161.000000      0.475784      0.555782      0.527991      0.452887   \n",
              "75%      191.000000      0.626630      0.681761      0.634224      0.661283   \n",
              "max      325.000000      0.984975      0.862654      0.944251      0.954297   \n",
              "\n",
              "              cont5         cont6         cont7         cont8         cont9  \\\n",
              "count  38318.000000  38318.000000  38318.000000  38318.000000  38318.000000   \n",
              "mean       0.486277      0.492233      0.485269      0.488247      0.486648   \n",
              "std        0.208598      0.205681      0.178159      0.200362      0.181868   \n",
              "min        0.281143      0.012683      0.069503      0.236880      0.000080   \n",
              "25%        0.281143      0.336105      0.351749      0.317960      0.360910   \n",
              "50%        0.422268      0.440945      0.438771      0.441060      0.441450   \n",
              "75%        0.635304      0.659789      0.591761      0.629180      0.573000   \n",
              "max        0.982520      0.997162      1.000000      0.980200      0.995400   \n",
              "\n",
              "             cont10        cont11        cont12        cont13        cont14  \n",
              "count  38318.000000  38318.000000  38318.000000  38318.000000  38318.000000  \n",
              "mean       0.499259      0.494328      0.493874      0.495142      0.493625  \n",
              "std        0.186696      0.209424      0.209184      0.212940      0.222042  \n",
              "min        0.000000      0.035321      0.036232      0.000228      0.180824  \n",
              "25%        0.364580      0.314313      0.318249      0.315758      0.294576  \n",
              "50%        0.461190      0.461077      0.462286      0.369740      0.403377  \n",
              "75%        0.619840      0.678924      0.679096      0.689974      0.724273  \n",
              "max        0.994980      0.998702      0.998437      0.988494      0.844729  "
            ]
          },
          "metadata": {
            "tags": []
          },
          "execution_count": 21
        }
      ]
    },
    {
      "cell_type": "markdown",
      "metadata": {
        "id": "ChCI4-YoGzdN",
        "colab_type": "text"
      },
      "source": [
        "## First Model - Linear Regression"
      ]
    },
    {
      "cell_type": "markdown",
      "metadata": {
        "id": "-EJC0BsUGzdN",
        "colab_type": "text"
      },
      "source": [
        "In order, to get an idea of what range of score to expect, we first built a naive classifier using linear regression."
      ]
    },
    {
      "cell_type": "code",
      "metadata": {
        "id": "2DgSUX3tGzdQ",
        "colab_type": "code",
        "outputId": "1191df93-82e1-4752-ea35-3b19d56f885b",
        "colab": {
          "base_uri": "https://localhost:8080/",
          "height": 34
        }
      },
      "source": [
        "from sklearn.linear_model import LinearRegression           #importing the linear regression\n",
        "\n",
        "#Set the base model\n",
        "model = LinearRegression(n_jobs=-1)                         #setting n_jobs to -1 to use all cores available\n",
        "\n",
        "model.fit(train_data,target)                                #training the model "
      ],
      "execution_count": 22,
      "outputs": [
        {
          "output_type": "execute_result",
          "data": {
            "text/plain": [
              "LinearRegression(copy_X=True, fit_intercept=True, n_jobs=-1, normalize=False)"
            ]
          },
          "metadata": {
            "tags": []
          },
          "execution_count": 22
        }
      ]
    },
    {
      "cell_type": "markdown",
      "metadata": {
        "id": "bC4cq4LJGzdU",
        "colab_type": "text"
      },
      "source": [
        "## Predicting the target variable of the test data"
      ]
    },
    {
      "cell_type": "markdown",
      "metadata": {
        "id": "9-GG0OOSGzdU",
        "colab_type": "text"
      },
      "source": [
        "Now that our model is trained, we find the predictions of the test data"
      ]
    },
    {
      "cell_type": "code",
      "metadata": {
        "id": "qQoxMe7DUf75",
        "colab_type": "code",
        "outputId": "560a8b59-5635-4423-bb1a-26c4982e1673",
        "colab": {
          "base_uri": "https://localhost:8080/",
          "height": 50
        }
      },
      "source": [
        "model.predict(test_data)"
      ],
      "execution_count": 23,
      "outputs": [
        {
          "output_type": "execute_result",
          "data": {
            "text/plain": [
              "array([7.32622569, 8.68148773, 8.72324148, ..., 8.21950252, 7.87032622,\n",
              "       7.83188065])"
            ]
          },
          "metadata": {
            "tags": []
          },
          "execution_count": 23
        }
      ]
    },
    {
      "cell_type": "code",
      "metadata": {
        "id": "mqteZXsxGzdU",
        "colab_type": "code",
        "outputId": "e30dd9b7-d688-4cb9-ac44-9c1868bf62ab",
        "colab": {
          "base_uri": "https://localhost:8080/",
          "height": 34
        }
      },
      "source": [
        "from sklearn.metrics import mean_absolute_error\n",
        "\n",
        "error = mean_absolute_error(y_true,np.exp(model.predict(test_data))-shift)\n",
        "\n",
        "print (error)"
      ],
      "execution_count": 24,
      "outputs": [
        {
          "output_type": "stream",
          "text": [
            "1267.4820890021135\n"
          ],
          "name": "stdout"
        }
      ]
    },
    {
      "cell_type": "markdown",
      "metadata": {
        "id": "OM7ICVa5GzdX",
        "colab_type": "text"
      },
      "source": [
        "So our linear regressor gives a score of 1267.48. Next, we create a XGBoost model and see how it fares as compared to this base score."
      ]
    },
    {
      "cell_type": "code",
      "metadata": {
        "id": "uxGGwXcNWSSp",
        "colab_type": "code",
        "colab": {}
      },
      "source": [
        "import statsmodels.api as sm\n",
        "import sklearn\n",
        "from sklearn import metrics\n",
        "from sklearn.linear_model import LogisticRegression\n",
        "from sklearn.naive_bayes import GaussianNB\n",
        "from sklearn.ensemble import RandomForestClassifier\n",
        "from sklearn.svm import SVC\n",
        "from sklearn.neighbors import KNeighborsClassifier\n",
        "from sklearn.tree import DecisionTreeClassifier\n",
        "from sklearn.ensemble import AdaBoostClassifier\n",
        "from sklearn.ensemble import BaggingClassifier\n",
        "from sklearn.ensemble import GradientBoostingClassifier\n",
        "\n",
        "import xgboost as xgb\n",
        "from xgboost.sklearn import XGBClassifier"
      ],
      "execution_count": 0,
      "outputs": []
    },
    {
      "cell_type": "code",
      "metadata": {
        "id": "48JTaeM-gfGd",
        "colab_type": "code",
        "colab": {}
      },
      "source": [
        "from sklearn import preprocessing\n",
        "from sklearn import utils\n",
        "\n",
        "lab_enc = preprocessing.LabelEncoder()"
      ],
      "execution_count": 0,
      "outputs": []
    },
    {
      "cell_type": "code",
      "metadata": {
        "id": "mWW7uN28gimD",
        "colab_type": "code",
        "colab": {}
      },
      "source": [
        "y_right = lab_enc.fit_transform(y_true)"
      ],
      "execution_count": 0,
      "outputs": []
    },
    {
      "cell_type": "code",
      "metadata": {
        "id": "0Ct88wBTiE42",
        "colab_type": "code",
        "colab": {}
      },
      "source": [
        "target1=lab_enc.fit_transform(target)"
      ],
      "execution_count": 0,
      "outputs": []
    },
    {
      "cell_type": "code",
      "metadata": {
        "id": "EobMG1NEhTMy",
        "colab_type": "code",
        "outputId": "f558df5b-dada-4896-e1c2-9a07cd492b8f",
        "colab": {
          "base_uri": "https://localhost:8080/",
          "height": 1000
        }
      },
      "source": [
        "train_data.dtypes"
      ],
      "execution_count": 29,
      "outputs": [
        {
          "output_type": "execute_result",
          "data": {
            "text/plain": [
              "cat1        int64\n",
              "cat2        int64\n",
              "cat3        int64\n",
              "cat4        int64\n",
              "cat5        int64\n",
              "cat6        int64\n",
              "cat7        int64\n",
              "cat8        int64\n",
              "cat9        int64\n",
              "cat10       int64\n",
              "cat11       int64\n",
              "cat12       int64\n",
              "cat13       int64\n",
              "cat14       int64\n",
              "cat15       int64\n",
              "cat16       int64\n",
              "cat17       int64\n",
              "cat18       int64\n",
              "cat19       int64\n",
              "cat20       int64\n",
              "cat21       int64\n",
              "cat22       int64\n",
              "cat23       int64\n",
              "cat24       int64\n",
              "cat25       int64\n",
              "cat26       int64\n",
              "cat27       int64\n",
              "cat28       int64\n",
              "cat29       int64\n",
              "cat30       int64\n",
              "cat31       int64\n",
              "cat32       int64\n",
              "cat33       int64\n",
              "cat34       int64\n",
              "cat35       int64\n",
              "cat36       int64\n",
              "cat37       int64\n",
              "cat38       int64\n",
              "cat39       int64\n",
              "cat40       int64\n",
              "cat41       int64\n",
              "cat42       int64\n",
              "cat43       int64\n",
              "cat44       int64\n",
              "cat45       int64\n",
              "cat46       int64\n",
              "cat47       int64\n",
              "cat48       int64\n",
              "cat49       int64\n",
              "cat50       int64\n",
              "cat51       int64\n",
              "cat52       int64\n",
              "cat53       int64\n",
              "cat54       int64\n",
              "cat55       int64\n",
              "cat56       int64\n",
              "cat57       int64\n",
              "cat58       int64\n",
              "cat59       int64\n",
              "cat60       int64\n",
              "cat61       int64\n",
              "cat62       int64\n",
              "cat63       int64\n",
              "cat64       int64\n",
              "cat65       int64\n",
              "cat66       int64\n",
              "cat67       int64\n",
              "cat68       int64\n",
              "cat69       int64\n",
              "cat70       int64\n",
              "cat71       int64\n",
              "cat72       int64\n",
              "cat73       int64\n",
              "cat74       int64\n",
              "cat75       int64\n",
              "cat76       int64\n",
              "cat77       int64\n",
              "cat78       int64\n",
              "cat79       int64\n",
              "cat80       int64\n",
              "cat81       int64\n",
              "cat82       int64\n",
              "cat83       int64\n",
              "cat84       int64\n",
              "cat85       int64\n",
              "cat86       int64\n",
              "cat87       int64\n",
              "cat88       int64\n",
              "cat89       int64\n",
              "cat90       int64\n",
              "cat91       int64\n",
              "cat92       int64\n",
              "cat93       int64\n",
              "cat94       int64\n",
              "cat95       int64\n",
              "cat96       int64\n",
              "cat97       int64\n",
              "cat98       int64\n",
              "cat99       int64\n",
              "cat100      int64\n",
              "cat101      int64\n",
              "cat102      int64\n",
              "cat103      int64\n",
              "cat104      int64\n",
              "cat105      int64\n",
              "cat106      int64\n",
              "cat107      int64\n",
              "cat108      int64\n",
              "cat109      int64\n",
              "cat110      int64\n",
              "cat111      int64\n",
              "cat112      int64\n",
              "cat113      int64\n",
              "cat114      int64\n",
              "cat115      int64\n",
              "cat116      int64\n",
              "cont1     float64\n",
              "cont2     float64\n",
              "cont3     float64\n",
              "cont4     float64\n",
              "cont5     float64\n",
              "cont6     float64\n",
              "cont7     float64\n",
              "cont8     float64\n",
              "cont9     float64\n",
              "cont10    float64\n",
              "cont11    float64\n",
              "cont12    float64\n",
              "cont13    float64\n",
              "cont14    float64\n",
              "dtype: object"
            ]
          },
          "metadata": {
            "tags": []
          },
          "execution_count": 29
        }
      ]
    },
    {
      "cell_type": "code",
      "metadata": {
        "id": "hfRn72JJhTJs",
        "colab_type": "code",
        "outputId": "4946878e-e214-4896-bc38-0ad52f1463bd",
        "colab": {
          "base_uri": "https://localhost:8080/",
          "height": 1000
        }
      },
      "source": [
        "test_data.dtypes"
      ],
      "execution_count": 30,
      "outputs": [
        {
          "output_type": "execute_result",
          "data": {
            "text/plain": [
              "cat1        int64\n",
              "cat2        int64\n",
              "cat3        int64\n",
              "cat4        int64\n",
              "cat5        int64\n",
              "cat6        int64\n",
              "cat7        int64\n",
              "cat8        int64\n",
              "cat9        int64\n",
              "cat10       int64\n",
              "cat11       int64\n",
              "cat12       int64\n",
              "cat13       int64\n",
              "cat14       int64\n",
              "cat15       int64\n",
              "cat16       int64\n",
              "cat17       int64\n",
              "cat18       int64\n",
              "cat19       int64\n",
              "cat20       int64\n",
              "cat21       int64\n",
              "cat22       int64\n",
              "cat23       int64\n",
              "cat24       int64\n",
              "cat25       int64\n",
              "cat26       int64\n",
              "cat27       int64\n",
              "cat28       int64\n",
              "cat29       int64\n",
              "cat30       int64\n",
              "cat31       int64\n",
              "cat32       int64\n",
              "cat33       int64\n",
              "cat34       int64\n",
              "cat35       int64\n",
              "cat36       int64\n",
              "cat37       int64\n",
              "cat38       int64\n",
              "cat39       int64\n",
              "cat40       int64\n",
              "cat41       int64\n",
              "cat42       int64\n",
              "cat43       int64\n",
              "cat44       int64\n",
              "cat45       int64\n",
              "cat46       int64\n",
              "cat47       int64\n",
              "cat48       int64\n",
              "cat49       int64\n",
              "cat50       int64\n",
              "cat51       int64\n",
              "cat52       int64\n",
              "cat53       int64\n",
              "cat54       int64\n",
              "cat55       int64\n",
              "cat56       int64\n",
              "cat57       int64\n",
              "cat58       int64\n",
              "cat59       int64\n",
              "cat60       int64\n",
              "cat61       int64\n",
              "cat62       int64\n",
              "cat63       int64\n",
              "cat64       int64\n",
              "cat65       int64\n",
              "cat66       int64\n",
              "cat67       int64\n",
              "cat68       int64\n",
              "cat69       int64\n",
              "cat70       int64\n",
              "cat71       int64\n",
              "cat72       int64\n",
              "cat73       int64\n",
              "cat74       int64\n",
              "cat75       int64\n",
              "cat76       int64\n",
              "cat77       int64\n",
              "cat78       int64\n",
              "cat79       int64\n",
              "cat80       int64\n",
              "cat81       int64\n",
              "cat82       int64\n",
              "cat83       int64\n",
              "cat84       int64\n",
              "cat85       int64\n",
              "cat86       int64\n",
              "cat87       int64\n",
              "cat88       int64\n",
              "cat89       int64\n",
              "cat90       int64\n",
              "cat91       int64\n",
              "cat92       int64\n",
              "cat93       int64\n",
              "cat94       int64\n",
              "cat95       int64\n",
              "cat96       int64\n",
              "cat97       int64\n",
              "cat98       int64\n",
              "cat99       int64\n",
              "cat100      int64\n",
              "cat101      int64\n",
              "cat102      int64\n",
              "cat103      int64\n",
              "cat104      int64\n",
              "cat105      int64\n",
              "cat106      int64\n",
              "cat107      int64\n",
              "cat108      int64\n",
              "cat109      int64\n",
              "cat110      int64\n",
              "cat111      int64\n",
              "cat112      int64\n",
              "cat113      int64\n",
              "cat114      int64\n",
              "cat115      int64\n",
              "cat116      int64\n",
              "cont1     float64\n",
              "cont2     float64\n",
              "cont3     float64\n",
              "cont4     float64\n",
              "cont5     float64\n",
              "cont6     float64\n",
              "cont7     float64\n",
              "cont8     float64\n",
              "cont9     float64\n",
              "cont10    float64\n",
              "cont11    float64\n",
              "cont12    float64\n",
              "cont13    float64\n",
              "cont14    float64\n",
              "dtype: object"
            ]
          },
          "metadata": {
            "tags": []
          },
          "execution_count": 30
        }
      ]
    },
    {
      "cell_type": "code",
      "metadata": {
        "id": "2kbsTwPXfqqb",
        "colab_type": "code",
        "colab": {}
      },
      "source": [
        "for column in train_data.columns:\n",
        "    if train_data[column].dtype == type(object):\n",
        "        le = sklearn.preprocessing.LabelEncoder()\n",
        "        train_data[column] = le.fit_transform(train_data[column])"
      ],
      "execution_count": 0,
      "outputs": []
    },
    {
      "cell_type": "code",
      "metadata": {
        "id": "ZsBkR_7MhvoZ",
        "colab_type": "code",
        "colab": {}
      },
      "source": [
        "for column in test_data.columns:\n",
        "    if test_data[column].dtype == type(object):\n",
        "        le = sklearn.preprocessing.LabelEncoder()\n",
        "        test_data[column] = le.fit_transform(test_data[column])"
      ],
      "execution_count": 0,
      "outputs": []
    },
    {
      "cell_type": "code",
      "metadata": {
        "id": "o4aICJAhh2mh",
        "colab_type": "code",
        "outputId": "bd99fdef-7329-401c-bf5a-ee28dd14a7c2",
        "colab": {
          "base_uri": "https://localhost:8080/",
          "height": 34
        }
      },
      "source": [
        "target.dtypes"
      ],
      "execution_count": 33,
      "outputs": [
        {
          "output_type": "execute_result",
          "data": {
            "text/plain": [
              "dtype('float64')"
            ]
          },
          "metadata": {
            "tags": []
          },
          "execution_count": 33
        }
      ]
    },
    {
      "cell_type": "code",
      "metadata": {
        "id": "V5JURSnwektz",
        "colab_type": "code",
        "colab": {}
      },
      "source": [
        "X_test=test_data\n",
        "X_train=train_data\n",
        "y_test=y_right\n",
        "y_train=target1"
      ],
      "execution_count": 0,
      "outputs": []
    },
    {
      "cell_type": "code",
      "metadata": {
        "id": "hGYMC7xRXjm0",
        "colab_type": "code",
        "colab": {}
      },
      "source": [
        ""
      ],
      "execution_count": 0,
      "outputs": []
    },
    {
      "cell_type": "markdown",
      "metadata": {
        "id": "ZZ7MnRjkMqaf",
        "colab_type": "text"
      },
      "source": [
        "# Naive XGBoost"
      ]
    },
    {
      "cell_type": "markdown",
      "metadata": {
        "id": "xvCyrTHvMqai",
        "colab_type": "text"
      },
      "source": [
        "Now, we create a basic xgboost model without fine tuning it."
      ]
    },
    {
      "cell_type": "markdown",
      "metadata": {
        "id": "eKtgga_MMqal",
        "colab_type": "text"
      },
      "source": [
        "first, doing the necessary steps like preprocessing the data."
      ]
    },
    {
      "cell_type": "markdown",
      "metadata": {
        "id": "ECcHc6aEMqa3",
        "colab_type": "text"
      },
      "source": [
        "## Importing the model"
      ]
    },
    {
      "cell_type": "markdown",
      "metadata": {
        "id": "EcoYVyyJMqa6",
        "colab_type": "text"
      },
      "source": [
        "Now, we import the model and the metric."
      ]
    },
    {
      "cell_type": "code",
      "metadata": {
        "id": "5F8VeaYmMqa9",
        "colab_type": "code",
        "colab": {}
      },
      "source": [
        "from sklearn.metrics import mean_absolute_error\n",
        "import xgboost as xgb\n",
        "\n",
        "def evalerror(preds, dtrain):\n",
        "    labels = dtrain.get_label()\n",
        "    return 'mae', mean_absolute_error(np.exp(preds), np.exp(labels))"
      ],
      "execution_count": 0,
      "outputs": []
    },
    {
      "cell_type": "markdown",
      "metadata": {
        "id": "bh2_eK_yMqbQ",
        "colab_type": "text"
      },
      "source": [
        "We set the default parameters as given in this link - https://www.analyticsvidhya.com/blog/2016/03/complete-guide-parameter-tuning-xgboost-with-codes-python/"
      ]
    },
    {
      "cell_type": "code",
      "metadata": {
        "id": "zuuBOu2zMqbS",
        "colab_type": "code",
        "colab": {}
      },
      "source": [
        "RANDOM_STATE = 2016\n",
        "params = {\n",
        "        'min_child_weight': 1,\n",
        "        'eta': 0.1,\n",
        "        'colsample_bytree': 0.8,\n",
        "        'max_depth': 5,\n",
        "        'subsample': 0.8,\n",
        "        'alpha': 1,\n",
        "        'gamma': 0,\n",
        "        'silent': 1,\n",
        "        'verbose_eval': True,\n",
        "        'seed': RANDOM_STATE,'eval_metric': 'mae','verbose_eval': 2,\n",
        "}"
      ],
      "execution_count": 0,
      "outputs": []
    },
    {
      "cell_type": "markdown",
      "metadata": {
        "id": "_umEJEQUMqbg",
        "colab_type": "text"
      },
      "source": [
        "## Training the model"
      ]
    },
    {
      "cell_type": "code",
      "metadata": {
        "id": "fkJqVjCAMqbi",
        "colab_type": "code",
        "colab": {}
      },
      "source": [
        "xgtrain = xgb.DMatrix(train_data, label=target)                   #training matrix\n",
        "xgtest = xgb.DMatrix(test_data)                                   #testing matrix\n",
        "model = xgb.train(params, xgtrain, 3000, feval=evalerror)         \n",
        "#3000 is taken intuitely(after seeing the iterations during finetuning)\n",
        "prediction = np.exp(model.predict(xgtest)) - shift"
      ],
      "execution_count": 0,
      "outputs": []
    },
    {
      "cell_type": "markdown",
      "metadata": {
        "id": "Sy-OQwIFMqbu",
        "colab_type": "text"
      },
      "source": [
        "## Finding MAE"
      ]
    },
    {
      "cell_type": "code",
      "metadata": {
        "id": "oh4J6tqPMqbx",
        "colab_type": "code",
        "outputId": "cbf53f58-c64e-423d-8633-3e81d3882915",
        "colab": {
          "base_uri": "https://localhost:8080/",
          "height": 34
        }
      },
      "source": [
        "from sklearn.metrics import mean_absolute_error\n",
        "\n",
        "error = mean_absolute_error(y_true,prediction)\n",
        "\n",
        "print (error)"
      ],
      "execution_count": 38,
      "outputs": [
        {
          "output_type": "stream",
          "text": [
            "1150.6825359165723\n"
          ],
          "name": "stdout"
        }
      ]
    },
    {
      "cell_type": "markdown",
      "metadata": {
        "id": "CMKNuJj-MqcC",
        "colab_type": "text"
      },
      "source": [
        "The naive XGBoost model gives an score of 1150.6825. Its time to fine tune it."
      ]
    },
    {
      "cell_type": "markdown",
      "metadata": {
        "id": "zuFCK04Qnlpf",
        "colab_type": "text"
      },
      "source": [
        "# Manual tuning the hyper-parameters"
      ]
    },
    {
      "cell_type": "markdown",
      "metadata": {
        "id": "ZSab9rQPnlpg",
        "colab_type": "text"
      },
      "source": [
        "In this file, we manually tune our hyper-parmeters."
      ]
    },
    {
      "cell_type": "markdown",
      "metadata": {
        "id": "Fj2zCWRjnlpg",
        "colab_type": "text"
      },
      "source": [
        "First, we take the previous steps again."
      ]
    },
    {
      "cell_type": "code",
      "metadata": {
        "id": "uu2Vl9ignlpk",
        "colab_type": "code",
        "colab": {}
      },
      "source": [
        "from sklearn.metrics import mean_absolute_error\n",
        "import xgboost as xgb\n",
        "\n",
        "def evalerror(preds, dtrain):\n",
        "    labels = dtrain.get_label()\n",
        "    return 'mae', mean_absolute_error(np.exp(preds), np.exp(labels))"
      ],
      "execution_count": 0,
      "outputs": []
    },
    {
      "cell_type": "markdown",
      "metadata": {
        "id": "J7ij8NIjnlpo",
        "colab_type": "text"
      },
      "source": [
        "## Fine-tuning max_depth and min_child_weight"
      ]
    },
    {
      "cell_type": "markdown",
      "metadata": {
        "id": "9s6h8z6Xnlpo",
        "colab_type": "text"
      },
      "source": [
        "First, we vary max_depth in (10,12,14) and min_child_weight in (1,3,5,7)"
      ]
    },
    {
      "cell_type": "markdown",
      "metadata": {
        "id": "S8sAaE2-nlpp",
        "colab_type": "text"
      },
      "source": [
        "NOTE - Since i ran it on cloud, i'm going to post the results obtained."
      ]
    },
    {
      "cell_type": "code",
      "metadata": {
        "id": "2ZtOz33xnlpp",
        "colab_type": "code",
        "outputId": "51cfd729-f43d-4ed5-b1c2-463c0d047831",
        "colab": {
          "base_uri": "https://localhost:8080/",
          "height": 1000
        }
      },
      "source": [
        "RANDOM_STATE = 2016\n",
        "params = {\n",
        "        'min_child_weight': 1,\n",
        "        'eta': 0.1,\n",
        "        'colsample_bytree': 0.8,\n",
        "        'max_depth': 5,\n",
        "        'subsample': 0.8,\n",
        "        'alpha': 1,\n",
        "        'gamma': 0,\n",
        "        'silent': 1,\n",
        "        'verbose_eval': True,\n",
        "        'seed': RANDOM_STATE,'eval_metric': 'mae','verbose_eval': 2,\n",
        "}\n",
        "\n",
        "\n",
        "max_depth_list = [10,12,14]\n",
        "min_child_weight_list = [1,3,5,7]\n",
        "num_rounds = 3000\n",
        "\n",
        "xgtrain = xgb.DMatrix(train_data, label=target)\n",
        "xgtest = xgb.DMatrix(test_data)\n",
        "maxima = 100000\n",
        "for maxdep in max_depth_list:\n",
        "    for minchild in min_child_weight_list:\n",
        "        params['max_depth'] = maxdep\n",
        "        params['min_child_weight']=minchild\n",
        "        \n",
        "        cv_result = xgb.cv(params, xgtrain, num_boost_round=num_rounds, nfold=5,seed=RANDOM_STATE,\n",
        "             callbacks=[xgb.callback.early_stop(50)])\n",
        "        if (cv_result['test-mae-mean'].values[-1] <maxima ):\n",
        "            maxima = cv_result['test-mae-mean'].values[-1]\n",
        "            bestmaxdep = maxdep\n",
        "            bestminchild = minchild\n",
        "        print (maxdep,'     ',minchild,\"     \",cv_result['test-mae-mean'].values[-1])\n",
        "\n",
        "print (bestmaxdep,\"           \",bestminchild)"
      ],
      "execution_count": 0,
      "outputs": [
        {
          "output_type": "stream",
          "text": [
            "Multiple eval metrics have been passed: 'test-mae' will be used for early stopping.\n",
            "\n",
            "Will train until test-mae hasn't improved in 50 rounds.\n",
            "Stopping. Best iteration:\n",
            "[136]\ttrain-mae:0.307024+0.00141155\ttest-mae:0.375236+0.00233597\n",
            "\n",
            "10       1       0.3752364\n",
            "Multiple eval metrics have been passed: 'test-mae' will be used for early stopping.\n",
            "\n",
            "Will train until test-mae hasn't improved in 50 rounds.\n",
            "Stopping. Best iteration:\n",
            "[131]\ttrain-mae:0.312241+0.00153357\ttest-mae:0.374751+0.00223918\n",
            "\n",
            "10       3       0.3747506\n",
            "Multiple eval metrics have been passed: 'test-mae' will be used for early stopping.\n",
            "\n",
            "Will train until test-mae hasn't improved in 50 rounds.\n",
            "Stopping. Best iteration:\n",
            "[136]\ttrain-mae:0.311824+0.000965207\ttest-mae:0.374821+0.0020323\n",
            "\n",
            "10       5       0.37482139999999997\n",
            "Multiple eval metrics have been passed: 'test-mae' will be used for early stopping.\n",
            "\n",
            "Will train until test-mae hasn't improved in 50 rounds.\n",
            "Stopping. Best iteration:\n",
            "[136]\ttrain-mae:0.314944+0.00103764\ttest-mae:0.374681+0.00251741\n",
            "\n",
            "10       7       0.37468119999999994\n",
            "Multiple eval metrics have been passed: 'test-mae' will be used for early stopping.\n",
            "\n",
            "Will train until test-mae hasn't improved in 50 rounds.\n",
            "Stopping. Best iteration:\n",
            "[110]\ttrain-mae:0.282566+0.00118013\ttest-mae:0.376627+0.00201495\n",
            "\n",
            "12       1       0.37662720000000005\n",
            "Multiple eval metrics have been passed: 'test-mae' will be used for early stopping.\n",
            "\n",
            "Will train until test-mae hasn't improved in 50 rounds.\n",
            "Stopping. Best iteration:\n",
            "[97]\ttrain-mae:0.296276+0.00143098\ttest-mae:0.376482+0.00219119\n",
            "\n",
            "12       3       0.3764816\n",
            "Multiple eval metrics have been passed: 'test-mae' will be used for early stopping.\n",
            "\n",
            "Will train until test-mae hasn't improved in 50 rounds.\n",
            "Stopping. Best iteration:\n",
            "[105]\ttrain-mae:0.293991+0.000860639\ttest-mae:0.376229+0.00209206\n",
            "\n",
            "12       5       0.3762294\n",
            "Multiple eval metrics have been passed: 'test-mae' will be used for early stopping.\n",
            "\n",
            "Will train until test-mae hasn't improved in 50 rounds.\n",
            "Stopping. Best iteration:\n",
            "[112]\ttrain-mae:0.293427+0.00144209\ttest-mae:0.375981+0.00192693\n",
            "\n",
            "12       7       0.3759806\n",
            "Multiple eval metrics have been passed: 'test-mae' will be used for early stopping.\n",
            "\n",
            "Will train until test-mae hasn't improved in 50 rounds.\n",
            "Stopping. Best iteration:\n",
            "[92]\ttrain-mae:0.259758+0.0020485\ttest-mae:0.378312+0.00185026\n",
            "\n",
            "14       1       0.3783122\n",
            "Multiple eval metrics have been passed: 'test-mae' will be used for early stopping.\n",
            "\n",
            "Will train until test-mae hasn't improved in 50 rounds.\n",
            "Stopping. Best iteration:\n",
            "[82]\ttrain-mae:0.277439+0.00146474\ttest-mae:0.378007+0.00202529\n",
            "\n",
            "14       3       0.378007\n",
            "Multiple eval metrics have been passed: 'test-mae' will be used for early stopping.\n",
            "\n",
            "Will train until test-mae hasn't improved in 50 rounds.\n",
            "Stopping. Best iteration:\n",
            "[91]\ttrain-mae:0.272703+0.00114509\ttest-mae:0.377852+0.00195519\n",
            "\n",
            "14       5       0.377852\n",
            "Multiple eval metrics have been passed: 'test-mae' will be used for early stopping.\n",
            "\n",
            "Will train until test-mae hasn't improved in 50 rounds.\n",
            "Stopping. Best iteration:\n",
            "[91]\ttrain-mae:0.277267+0.00085847\ttest-mae:0.377382+0.00199887\n",
            "\n",
            "14       7       0.37738180000000004\n",
            "10             7\n"
          ],
          "name": "stdout"
        }
      ]
    },
    {
      "cell_type": "markdown",
      "metadata": {
        "id": "XU2Cfjw2nlpu",
        "colab_type": "text"
      },
      "source": [
        "It gives values as max_depth = 10 and min_child_weight = 7. Since both are border cases, we need to check for more."
      ]
    },
    {
      "cell_type": "markdown",
      "metadata": {
        "id": "eVyflfRznlpu",
        "colab_type": "text"
      },
      "source": [
        "Now, we check for max_depth in (4,5,6,7,8,9,10,11) and min_child_weight in (6,7,8,9)"
      ]
    },
    {
      "cell_type": "markdown",
      "metadata": {
        "id": "G_EOzE-unlpv",
        "colab_type": "text"
      },
      "source": [
        "NOTE- I ran it different ties, like at first for max_depth = 7,8,9 and then max_depth = 5,6,7 etc.However, for the sake of simplicity and not wanting to make this file longer than required i have combined the results in a single file.  "
      ]
    },
    {
      "cell_type": "code",
      "metadata": {
        "id": "-gTibjyVnlpv",
        "colab_type": "code",
        "outputId": "57633cae-8d89-41bd-ea4a-8eadff69cdca",
        "colab": {
          "base_uri": "https://localhost:8080/",
          "height": 655
        }
      },
      "source": [
        "max_depth_list = [4,5,6,7,8,9,10,11]\n",
        "min_child_weight_list = [6,7,8,9]\n",
        "num_rounds = 3000\n",
        "\n",
        "maxima = 100000\n",
        "for maxdep in max_depth_list:\n",
        "    for minchild in min_child_weight_list:\n",
        "        params['max_depth'] = maxdep\n",
        "        params['min_child_weight']=minchild\n",
        "        \n",
        "        cv_result = xgb.cv(params, xgtrain, num_boost_round=num_rounds, nfold=5,seed=RANDOM_STATE,\n",
        "             callbacks=[xgb.callback.early_stop(50)])\n",
        "        if (cv_result['test-mae-mean'].values[-1] <maxima ):\n",
        "            maxima = cv_result['test-mae-mean'].values[-1]\n",
        "            bestmaxdep = maxdep\n",
        "            bestminchild = minchild\n",
        "        print (maxdep,'     ',minchild,\"     \",cv_result['test-mae-mean'].values[-1])\n",
        "\n",
        "print (bestmaxdep,\"           \",bestminchild)\n",
        "\n"
      ],
      "execution_count": 0,
      "outputs": [
        {
          "output_type": "stream",
          "text": [
            "Multiple eval metrics have been passed: 'test-mae' will be used for early stopping.\n",
            "\n",
            "Will train until test-mae hasn't improved in 50 rounds.\n",
            "Stopping. Best iteration:\n",
            "[1259]\ttrain-mae:0.348333+0.000667845\ttest-mae:0.373486+0.00247235\n",
            "\n",
            "4       6       0.37348560000000003\n",
            "Multiple eval metrics have been passed: 'test-mae' will be used for early stopping.\n",
            "\n",
            "Will train until test-mae hasn't improved in 50 rounds.\n",
            "Stopping. Best iteration:\n",
            "[1349]\ttrain-mae:0.346837+0.000597236\ttest-mae:0.373407+0.00255953\n",
            "\n",
            "4       7       0.3734068\n",
            "Multiple eval metrics have been passed: 'test-mae' will be used for early stopping.\n",
            "\n",
            "Will train until test-mae hasn't improved in 50 rounds.\n",
            "Stopping. Best iteration:\n",
            "[1131]\ttrain-mae:0.350736+0.000588732\ttest-mae:0.37345+0.00242986\n",
            "\n",
            "4       8       0.3734496\n",
            "Multiple eval metrics have been passed: 'test-mae' will be used for early stopping.\n",
            "\n",
            "Will train until test-mae hasn't improved in 50 rounds.\n",
            "Stopping. Best iteration:\n",
            "[1336]\ttrain-mae:0.347351+0.000639143\ttest-mae:0.373389+0.00257448\n",
            "\n",
            "4       9       0.3733886\n",
            "Multiple eval metrics have been passed: 'test-mae' will be used for early stopping.\n",
            "\n",
            "Will train until test-mae hasn't improved in 50 rounds.\n",
            "Stopping. Best iteration:\n",
            "[547]\ttrain-mae:0.349496+0.000645382\ttest-mae:0.373583+0.00200504\n",
            "\n",
            "5       6       0.3735828\n",
            "Multiple eval metrics have been passed: 'test-mae' will be used for early stopping.\n",
            "\n",
            "Will train until test-mae hasn't improved in 50 rounds.\n"
          ],
          "name": "stdout"
        }
      ]
    },
    {
      "cell_type": "markdown",
      "metadata": {
        "id": "mb4ksI_snlpy",
        "colab_type": "raw"
      },
      "source": [
        "Multiple eval metrics have been passed: 'test-mae' will be used for early stopping.\n",
        "\n",
        "Will train until test-mae hasn't improved in 50 rounds.\n",
        "Stopping. Best iteration:\n",
        "[164]   train-mae:0.321954+0.000704801  test-mae:0.374467+0.0024976\n",
        "\n",
        "9       6       0.3744668\n",
        "Multiple eval metrics have been passed: 'test-mae' will be used for early stopping.\n",
        "\n",
        "Will train until test-mae hasn't improved in 50 rounds.\n",
        "Stopping. Best iteration:\n",
        "[177]   train-mae:0.318851+0.000738684  test-mae:0.374326+0.00206189\n",
        "\n",
        "9       7       0.3743256\n",
        "Multiple eval metrics have been passed: 'test-mae' will be used for early stopping.\n",
        "\n",
        "Will train until test-mae hasn't improved in 50 rounds.\n",
        "Stopping. Best iteration:\n",
        "[167]   train-mae:0.32266+0.000860636   test-mae:0.374206+0.00244208\n",
        "\n",
        "9       8       0.3742058\n",
        "Multiple eval metrics have been passed: 'test-mae' will be used for early stopping.\n",
        "\n",
        "Will train until test-mae hasn't improved in 50 rounds.\n",
        "Stopping. Best iteration:\n",
        "[145]   train-mae:0.310124+0.000485493  test-mae:0.374526+0.0022774\n",
        "\n",
        "10       6       0.3745256\n",
        "Multiple eval metrics have been passed: 'test-mae' will be used for early stopping.\n",
        "\n",
        "Will train until test-mae hasn't improved in 50 rounds.\n",
        "Stopping. Best iteration:\n",
        "[147]   train-mae:0.310621+0.00130089   test-mae:0.37492+0.00237081\n",
        "\n",
        "10       7       0.3749202\n",
        "Multiple eval metrics have been passed: 'test-mae' will be used for early stopping.\n",
        "\n",
        "Will train until test-mae hasn't improved in 50 rounds.\n",
        "Stopping. Best iteration:\n",
        "[135]   train-mae:0.316236+0.00060147   test-mae:0.374908+0.00228443\n",
        "\n",
        "10       8       0.3749078\n",
        "Multiple eval metrics have been passed: 'test-mae' will be used for early stopping.\n",
        "\n",
        "Will train until test-mae hasn't improved in 50 rounds.\n",
        "Stopping. Best iteration:\n",
        "[125]   train-mae:0.301198+0.00131219   test-mae:0.375223+0.00218619\n",
        "\n",
        "11       6       0.3752226\n",
        "Multiple eval metrics have been passed: 'test-mae' will be used for early stopping.\n",
        "\n",
        "Will train until test-mae hasn't improved in 50 rounds.\n",
        "Stopping. Best iteration:\n",
        "[112]   train-mae:0.309151+0.000777521  test-mae:0.375414+0.00236391\n",
        "\n",
        "11       7       0.375414\n",
        "Multiple eval metrics have been passed: 'test-mae' will be used for early stopping.\n",
        "\n",
        "Will train until test-mae hasn't improved in 50 rounds.\n",
        "Stopping. Best iteration:\n",
        "[124]   train-mae:0.304937+0.001528     test-mae:0.375329+0.00211841\n",
        "\n",
        "11       8       0.3753294\n",
        "Multiple eval metrics have been passed: 'test-mae' will be used for early stopping.\n",
        "\n",
        "Will train until test-mae hasn't improved in 50 rounds.\n",
        "Stopping. Best iteration:\n",
        "[208]   train-mae:0.329836+0.000550497  test-mae:0.373912+0.00223101\n",
        "\n",
        "8       8       0.3739124\n",
        "Multiple eval metrics have been passed: 'test-mae' will be used for early stopping.\n",
        "\n",
        "Will train until test-mae hasn't improved in 50 rounds.\n",
        "Stopping. Best iteration:\n",
        "[219]   train-mae:0.328465+0.00101536   test-mae:0.373974+0.00246124\n",
        "\n",
        "8       9       0.3739736\n",
        "Multiple eval metrics have been passed: 'test-mae' will be used for early stopping.\n",
        "\n",
        "Will train until test-mae hasn't improved in 50 rounds.\n",
        "Stopping. Best iteration:\n",
        "[167]   train-mae:0.32266+0.000860636   test-mae:0.374206+0.00244208\n",
        "\n",
        "9       8       0.3742058\n",
        "Multiple eval metrics have been passed: 'test-mae' will be used for early stopping.\n",
        "\n",
        "Will train until test-mae hasn't improved in 50 rounds.\n",
        "Stopping. Best iteration:\n",
        "[187]   train-mae:0.318274+0.00108897   test-mae:0.374366+0.00218189\n",
        "\n",
        "9       9       0.374366\n",
        "Multiple eval metrics have been passed: 'test-mae' will be used for early stopping.\n",
        "\n",
        "Will train until test-mae hasn't improved in 50 rounds.\n",
        "Stopping. Best iteration:\n",
        "[455]   train-mae:0.338124+0.000571235  test-mae:0.373179+0.002213\n",
        "\n",
        "6       8       0.3731788\n",
        "Multiple eval metrics have been passed: 'test-mae' will be used for early stopping.\n",
        "\n",
        "Will train until test-mae hasn't improved in 50 rounds.\n",
        "Stopping. Best iteration:\n",
        "[318]   train-mae:0.331869+0.000525003  test-mae:0.373462+0.00235517\n",
        "\n",
        "7       8       0.373462\n",
        "Multiple eval metrics have been passed: 'test-mae' will be used for early stopping.\n",
        "\n",
        "Will train until test-mae hasn't improved in 50 rounds.\n",
        "Stopping. Best iteration:\n",
        "[208]   train-mae:0.329836+0.000550497  test-mae:0.373912+0.00223101\n",
        "\n",
        "8       8       0.3739124\n",
        "Multiple eval metrics have been passed: 'test-mae' will be used for early stopping.\n",
        "\n",
        "Will train until test-mae hasn't improved in 50 rounds.\n",
        "Stopping. Best iteration:\n",
        "[1209]  train-mae:0.349333+0.000581018  test-mae:0.37333+0.0024643\n",
        "\n",
        "4       8       0.37333\n",
        "Multiple eval metrics have been passed: 'test-mae' will be used for early stopping.\n",
        "\n",
        "Will train until test-mae hasn't improved in 50 rounds.\n",
        "Stopping. Best iteration:\n",
        "[636]   train-mae:0.346278+0.000684862  test-mae:0.37333+0.00236586\n",
        "\n",
        "5       8       0.3733298\n",
        "Multiple eval metrics have been passed: 'test-mae' will be used for early stopping.\n",
        "\n",
        "Will train until test-mae hasn't improved in 50 rounds.\n",
        "Stopping. Best iteration:\n",
        "[455]   train-mae:0.338124+0.000571235  test-mae:0.373179+0.002213\n",
        "\n",
        "6       8       0.3731788\n",
        "6             8"
      ]
    },
    {
      "cell_type": "markdown",
      "metadata": {
        "collapsed": true,
        "id": "T3kzWMKinlpy",
        "colab_type": "text"
      },
      "source": [
        "Finally, we get the best value of max_depth = 8 and min_child_weight = 8."
      ]
    },
    {
      "cell_type": "markdown",
      "metadata": {
        "id": "uvC83lLlnlpz",
        "colab_type": "text"
      },
      "source": [
        "## Tuning Gamma now"
      ]
    },
    {
      "cell_type": "markdown",
      "metadata": {
        "id": "W4mXhynPnlpz",
        "colab_type": "text"
      },
      "source": [
        "Now, we set the values of max_depth and min_child_weight and vary gamma in (0.0,0.1,0.2,0.5,0.8,1.0)"
      ]
    },
    {
      "cell_type": "code",
      "metadata": {
        "id": "tvv6uXWmnlp0",
        "colab_type": "code",
        "colab": {}
      },
      "source": [
        "params['max_depth'] = 6\n",
        "params['min_child_weight']=8\n",
        "\n",
        "gamma_list = [0.0,0.1,0.2,0.3,0.4]\n",
        "\n",
        "num_rounds = 3000\n",
        "\n",
        "maxima = 100000\n",
        "\n",
        "for gamma_val in gamma_list:\n",
        "    params['gamma'] = gamma_val\n",
        "    cv_result = xgb.cv(params, xgtrain, num_boost_round=num_rounds, nfold=5,seed=RANDOM_STATE,\n",
        "             callbacks=[xgb.callback.early_stop(50)])\n",
        "    if (cv_result['test-mae-mean'].values[-1] <maxima ):\n",
        "        maxima = cv_result['test-mae-mean'].values[-1]\n",
        "        bestgamma = gamma_val\n",
        "            \n",
        "    print ('gamma:','     ',gamma_val,\"     \",cv_result['test-mae-mean'].values[-1])\n",
        "\n",
        "print ('best gamma value:',bestgamma)\n"
      ],
      "execution_count": 0,
      "outputs": []
    },
    {
      "cell_type": "markdown",
      "metadata": {
        "collapsed": true,
        "id": "3WMKvNaZnlp4",
        "colab_type": "text"
      },
      "source": [
        "The best value for gamma is 0.0 only."
      ]
    },
    {
      "cell_type": "markdown",
      "metadata": {
        "id": "O1cZ2jQBnlp4",
        "colab_type": "text"
      },
      "source": [
        "## Tuning col_sample_list and subsample"
      ]
    },
    {
      "cell_type": "markdown",
      "metadata": {
        "id": "9A891Rwynlp5",
        "colab_type": "text"
      },
      "source": [
        "Now, we set the values of max_depth and min_child_weight and vary col_sample in (0.0,0.1,0.2,0.5,0.8,1.0) and subsample in ()"
      ]
    },
    {
      "cell_type": "code",
      "metadata": {
        "id": "PATZan24nlp5",
        "colab_type": "code",
        "colab": {}
      },
      "source": [
        "params['gamma'] = 0.0\n",
        "\n",
        "col_sample_list = [0.3,0.5,0.7,0.9]\n",
        "subsample_list = [0.3,0.5,0.7,0.9]\n",
        "\n",
        "num_rounds = 3000\n",
        "\n",
        "maxima = 100000\n",
        "\n",
        "for colsample in col_sample_list:\n",
        "    for subsample in subsample_list:\n",
        "        params['colsample_bytree'] = colsample\n",
        "        params['subsample'] = subsample\n",
        "        \n",
        "        cv_result = xgb.cv(params, xgtrain, num_boost_round=num_rounds, nfold=5,seed=RANDOM_STATE,\n",
        "             callbacks=[xgb.callback.early_stop(50)])\n",
        "        if (cv_result['test-mae-mean'].values[-1] <maxima ):\n",
        "            maxima = cv_result['test-mae-mean'].values[-1]\n",
        "            bestcol = colsample\n",
        "            bestsub = subsample\n",
        "        print (\"colsample:\",colsample,'     ',\"subsample:\",subsample,\"     \",cv_result['test-mae-mean'].values[-1])\n",
        "\n",
        "print (\"col:\",bestcol,\"           \",\"sub:\",bestsub)\n"
      ],
      "execution_count": 0,
      "outputs": []
    },
    {
      "cell_type": "markdown",
      "metadata": {
        "id": "k7rXBkDBnlp8",
        "colab_type": "raw"
      },
      "source": [
        "Multiple eval metrics have been passed: 'test-mae' will be used for early stopping.\n",
        "\n",
        "Will train until test-mae hasn't improved in 50 rounds.\n",
        "Stopping. Best iteration:\n",
        "[164]   train-mae:0.347278+0.000960707  test-mae:0.377889+0.00267434\n",
        "\n",
        "colsample: 0.3       subsample: 0.3       0.3778888\n",
        "Multiple eval metrics have been passed: 'test-mae' will be used for early stopping.\n",
        "\n",
        "Will train until test-mae hasn't improved in 50 rounds.\n",
        "Stopping. Best iteration:\n",
        "[171]   train-mae:0.338302+0.00104506   test-mae:0.375754+0.0023155\n",
        "\n",
        "colsample: 0.3       subsample: 0.5       0.3757536\n",
        "Multiple eval metrics have been passed: 'test-mae' will be used for early stopping.\n",
        "\n",
        "Will train until test-mae hasn't improved in 50 rounds.\n",
        "Stopping. Best iteration:\n",
        "[231]   train-mae:0.322145+0.0010546    test-mae:0.37438+0.00231949\n",
        "\n",
        "colsample: 0.3       subsample: 0.7       0.3743798\n",
        "Multiple eval metrics have been passed: 'test-mae' will be used for early stopping.\n",
        "\n",
        "Will train until test-mae hasn't improved in 50 rounds.\n",
        "Stopping. Best iteration:\n",
        "[256]   train-mae:0.314295+0.00159014   test-mae:0.373813+0.0023904\n",
        "\n",
        "colsample: 0.3       subsample: 0.9       0.3738134\n",
        "Multiple eval metrics have been passed: 'test-mae' will be used for early stopping.\n",
        "\n",
        "Will train until test-mae hasn't improved in 50 rounds.\n",
        "Stopping. Best iteration:\n",
        "[150]   train-mae:0.345739+0.00091591   test-mae:0.378218+0.00240492\n",
        "\n",
        "colsample: 0.5       subsample: 0.3       0.3782176\n",
        "Multiple eval metrics have been passed: 'test-mae' will be used for early stopping.\n",
        "\n",
        "Will train until test-mae hasn't improved in 50 rounds.\n",
        "Stopping. Best iteration:\n",
        "[177]   train-mae:0.332512+0.00126407   test-mae:0.375932+0.0023026\n",
        "\n",
        "colsample: 0.5       subsample: 0.5       0.3759318\n",
        "Multiple eval metrics have been passed: 'test-mae' will be used for early stopping.\n",
        "\n",
        "Will train until test-mae hasn't improved in 50 rounds.\n",
        "Stopping. Best iteration:\n",
        "[197]   train-mae:0.322158+0.00103509   test-mae:0.374547+0.00268987\n",
        "\n",
        "colsample: 0.5       subsample: 0.7       0.3745468\n",
        "Multiple eval metrics have been passed: 'test-mae' will be used for early stopping.\n",
        "\n",
        "Will train until test-mae hasn't improved in 50 rounds.\n",
        "Stopping. Best iteration:\n",
        "[212]   train-mae:0.316006+0.00139258   test-mae:0.373787+0.00245819\n",
        "\n",
        "colsample: 0.5       subsample: 0.9       0.3737872\n",
        "Multiple eval metrics have been passed: 'test-mae' will be used for early stopping.\n",
        "\n",
        "Will train until test-mae hasn't improved in 50 rounds.\n",
        "Stopping. Best iteration:\n",
        "[134]   train-mae:0.346648+0.0006778    test-mae:0.377686+0.00208084\n",
        "\n",
        "colsample: 0.7       subsample: 0.3       0.3776862\n",
        "Multiple eval metrics have been passed: 'test-mae' will be used for early stopping.\n",
        "\n",
        "Will train until test-mae hasn't improved in 50 rounds.\n",
        "Stopping. Best iteration:\n",
        "[154]   train-mae:0.334538+0.00131568   test-mae:0.376049+0.00240811\n",
        "\n",
        "colsample: 0.7       subsample: 0.5       0.3760494\n",
        "Multiple eval metrics have been passed: 'test-mae' will be used for early stopping.\n",
        "\n",
        "Will train until test-mae hasn't improved in 50 rounds.\n",
        "Stopping. Best iteration:\n",
        "[176]   train-mae:0.322974+0.00108391   test-mae:0.375085+0.00221452\n",
        "\n",
        "colsample: 0.7       subsample: 0.7       0.3750854\n",
        "Multiple eval metrics have been passed: 'test-mae' will be used for early stopping.\n",
        "\n",
        "Will train until test-mae hasn't improved in 50 rounds.\n",
        "Stopping. Best iteration:\n",
        "[214]   train-mae:0.311863+0.00169539   test-mae:0.373921+0.00210249\n",
        "\n",
        "colsample: 0.7       subsample: 0.9       0.373921\n",
        "Multiple eval metrics have been passed: 'test-mae' will be used for early stopping.\n",
        "\n",
        "Will train until test-mae hasn't improved in 50 rounds.\n",
        "Stopping. Best iteration:\n",
        "[127]   train-mae:0.3473+0.00080458     test-mae:0.378046+0.00220266\n",
        "\n",
        "colsample: 0.9       subsample: 0.3       0.3780464\n",
        "Multiple eval metrics have been passed: 'test-mae' will be used for early stopping.\n",
        "\n",
        "Will train until test-mae hasn't improved in 50 rounds.\n",
        "Stopping. Best iteration:\n",
        "[143]   train-mae:0.33548+0.000711149   test-mae:0.376282+0.00216247\n",
        "\n",
        "colsample: 0.9       subsample: 0.5       0.3762824\n",
        "Multiple eval metrics have been passed: 'test-mae' will be used for early stopping.\n",
        "\n",
        "Will train until test-mae hasn't improved in 50 rounds.\n",
        "Stopping. Best iteration:\n",
        "[161]   train-mae:0.32416+0.00022592    test-mae:0.37486+0.00259281\n",
        "\n",
        "colsample: 0.9       subsample: 0.7       0.3748602\n",
        "Multiple eval metrics have been passed: 'test-mae' will be used for early stopping.\n",
        "\n",
        "Will train until test-mae hasn't improved in 50 rounds.\n",
        "Stopping. Best iteration:\n",
        "[185]   train-mae:0.315528+0.00156167   test-mae:0.374016+0.00211127\n",
        "\n",
        "colsample: 0.9       subsample: 0.9       0.3740164\n",
        "col: 0.5             sub: 0.9"
      ]
    },
    {
      "cell_type": "markdown",
      "metadata": {
        "collapsed": true,
        "id": "d4TAOpU9nlp8",
        "colab_type": "text"
      },
      "source": [
        "The best values obtained are col_sample = 0.5 and sub_sample = 0.9. Next, we try to values in a gap of 0.05"
      ]
    },
    {
      "cell_type": "code",
      "metadata": {
        "id": "56iiWo46nlp9",
        "colab_type": "code",
        "colab": {}
      },
      "source": [
        "col_sample_list = [0.45,0.50,0.55]\n",
        "subsample_list = [0.85,0.90,0.95,1.0]\n",
        "\n",
        "num_rounds = 3000\n",
        "\n",
        "maxima = 100000\n",
        "\n",
        "for colsample in col_sample_list:\n",
        "    for subsample in subsample_list:\n",
        "        params['colsample_bytree'] = colsample\n",
        "        params['subsample'] = subsample\n",
        "        \n",
        "        cv_result = xgb.cv(params, xgtrain, num_boost_round=num_rounds, nfold=5,seed=RANDOM_STATE,\n",
        "             callbacks=[xgb.callback.early_stop(50)])\n",
        "        if (cv_result['test-mae-mean'].values[-1] <maxima ):\n",
        "            maxima = cv_result['test-mae-mean'].values[-1]\n",
        "            bestcol = colsample\n",
        "            bestsub = subsample\n",
        "        print (\"colsample:\",colsample,'     ',\"subsample:\",subsample,\"     \",cv_result['test-mae-mean'].values[-1])\n",
        "\n",
        "print (\"col:\",bestcol,\"           \",\"sub:\",bestsub)"
      ],
      "execution_count": 0,
      "outputs": []
    },
    {
      "cell_type": "markdown",
      "metadata": {
        "id": "peN8PEtRnlp_",
        "colab_type": "raw"
      },
      "source": [
        "Multiple eval metrics have been passed: 'test-mae' will be used for early stopping.\n",
        "\n",
        "Will train until test-mae hasn't improved in 50 rounds.\n",
        "Stopping. Best iteration:\n",
        "[544]   train-mae:0.336931+0.000884705  test-mae:0.373095+0.00243941\n",
        "\n",
        "colsample: 0.45       subsample: 0.85       0.3730954\n",
        "Multiple eval metrics have been passed: 'test-mae' will be used for early stopping.\n",
        "\n",
        "Will train until test-mae hasn't improved in 50 rounds.\n",
        "Stopping. Best iteration:\n",
        "[616]   train-mae:0.333108+0.000826946  test-mae:0.372965+0.00238837\n",
        "\n",
        "colsample: 0.45       subsample: 0.9       0.3729654\n",
        "Multiple eval metrics have been passed: 'test-mae' will be used for early stopping.\n",
        "\n",
        "Will train until test-mae hasn't improved in 50 rounds.\n",
        "Stopping. Best iteration:\n",
        "[575]   train-mae:0.335237+0.000721526  test-mae:0.372755+0.00225287\n",
        "\n",
        "colsample: 0.45       subsample: 0.95       0.3727552\n",
        "Multiple eval metrics have been passed: 'test-mae' will be used for early stopping.\n",
        "\n",
        "Will train until test-mae hasn't improved in 50 rounds.\n",
        "Stopping. Best iteration:\n",
        "[595]   train-mae:0.333348+0.000853109  test-mae:0.372932+0.00253045\n",
        "\n",
        "colsample: 0.5       subsample: 0.85       0.3729324\n",
        "Multiple eval metrics have been passed: 'test-mae' will be used for early stopping.\n",
        "\n",
        "Will train until test-mae hasn't improved in 50 rounds.\n",
        "Stopping. Best iteration:\n",
        "[520]   train-mae:0.33733+0.000913062   test-mae:0.372937+0.00251501\n",
        "\n",
        "colsample: 0.5       subsample: 0.9       0.372937\n",
        "Multiple eval metrics have been passed: 'test-mae' will be used for early stopping.\n",
        "\n",
        "Will train until test-mae hasn't improved in 50 rounds.\n",
        "Stopping. Best iteration:\n",
        "[579]   train-mae:0.333952+0.000691618  test-mae:0.372993+0.00248749\n",
        "\n",
        "colsample: 0.5       subsample: 0.95       0.3729932\n",
        "Multiple eval metrics have been passed: 'test-mae' will be used for early stopping.\n",
        "\n",
        "Will train until test-mae hasn't improved in 50 rounds.\n",
        "Stopping. Best iteration:\n",
        "[490]   train-mae:0.337011+0.000677289  test-mae:0.373275+0.0023786\n",
        "\n",
        "colsample: 0.65       subsample: 0.85       0.3732746\n",
        "Multiple eval metrics have been passed: 'test-mae' will be used for early stopping.\n",
        "\n",
        "Will train until test-mae hasn't improved in 50 rounds.\n",
        "Stopping. Best iteration:\n",
        "[504]   train-mae:0.336404+0.000656293  test-mae:0.373148+0.00254256\n",
        "\n",
        "colsample: 0.65       subsample: 0.9       0.3731478\n",
        "Multiple eval metrics have been passed: 'test-mae' will be used for early stopping.\n",
        "\n",
        "Will train until test-mae hasn't improved in 50 rounds.\n",
        "Stopping. Best iteration:\n",
        "[519]   train-mae:0.335617+0.00101215   test-mae:0.372786+0.0022168\n",
        "\n",
        "colsample: 0.65       subsample: 0.95       0.3727858\n",
        "Will train until test-mae hasn't improved in 50 rounds.\n",
        "Stopping. Best iteration:\n",
        "[558]   train-mae:0.336056+0.000652872  test-mae:0.372712+0.00243462\n",
        "\n",
        "colsample: 0.45       subsample: 1.0       0.3727118\n",
        "col: 0.45             sub: 1.0"
      ]
    },
    {
      "cell_type": "markdown",
      "metadata": {
        "id": "wHgdZhEvnlp_",
        "colab_type": "text"
      },
      "source": [
        "The best values obtained are col_sample = 0.45 and sub_sample = 1.0"
      ]
    },
    {
      "cell_type": "markdown",
      "metadata": {
        "collapsed": true,
        "id": "ClMO7VLZnlqA",
        "colab_type": "text"
      },
      "source": [
        "We don't need to tune alpha as most of the regularization is provided by gamma itself.\n"
      ]
    },
    {
      "cell_type": "markdown",
      "metadata": {
        "id": "awSvpYYcnlqA",
        "colab_type": "text"
      },
      "source": [
        "Let's lower the learning rate now to 0.01 and use these values in the final model."
      ]
    },
    {
      "cell_type": "markdown",
      "metadata": {
        "id": "4kX7efbN0WbI",
        "colab_type": "text"
      },
      "source": [
        "# Tuned XGBoost"
      ]
    },
    {
      "cell_type": "markdown",
      "metadata": {
        "id": "8QNlPrpn0WbJ",
        "colab_type": "text"
      },
      "source": [
        "Let's lower the learning rate now to 0.01 and use these values in the final model."
      ]
    },
    {
      "cell_type": "markdown",
      "metadata": {
        "id": "4l2bMu4Z0WbJ",
        "colab_type": "text"
      },
      "source": [
        "First, doing the necessary steps like preprocessing the data."
      ]
    },
    {
      "cell_type": "code",
      "metadata": {
        "id": "MhpMtZrO0WbK",
        "colab_type": "code",
        "colab": {}
      },
      "source": [
        "# Supress unnecessary warnings so that presentation looks clean\n",
        "import warnings\n",
        "warnings.filterwarnings('ignore')\n",
        "\n",
        "#importing the  necessary modules\n",
        "import pandas                                      #to read and manipulate data\n",
        "import zipfile                                     #to extract data\n",
        "import numpy as np                                 #for matrix operations\n",
        "#rest will be imported as and when required\n",
        "#read the train and test zip file\n",
        "zip_ref = zipfile.ZipFile(\"train.csv.zip\", 'r')    \n",
        "zip_ref.extractall()                               \n",
        "zip_ref.close()\n",
        "\n",
        "train_data = pandas.read_csv(\"train.csv\")\n",
        "\n",
        "import copy\n",
        "test_data = copy.deepcopy(train_data.iloc[150000:])\n",
        "train_data = train_data.iloc[:150000]\n",
        "\n",
        "y_true = test_data['loss']\n",
        "\n",
        "ids = test_data['id']\n",
        "\n",
        "target = train_data['loss']\n",
        "\n",
        "#drop the unnecessary column id and loss from both train and test set.\n",
        "train_data.drop(['id','loss'],1,inplace=True)\n",
        "test_data.drop(['id','loss'],1,inplace=True)\n",
        "\n",
        "shift = 200\n",
        "target = np.log(target+shift)\n",
        "\n",
        "#merging both the datasets to make single joined dataset\n",
        "joined = pandas.concat([train_data, test_data],ignore_index = True)\n",
        "del train_data,test_data                                         #deleting previous one to save memory.\n",
        "\n",
        "cat_feature = [n for n in joined.columns if n.startswith('cat')]  #list of all the features containing categorical values\n",
        "\n",
        "#factorizing them\n",
        "for column in cat_feature:\n",
        "    joined[column] = pandas.factorize(joined[column].values, sort=True)[0]\n",
        "        \n",
        "del cat_feature\n",
        "\n",
        "#dividing the training data between training and testing set\n",
        "train_data = joined.iloc[:150000,:]\n",
        "test_data = joined.iloc[150000:,:]"
      ],
      "execution_count": 0,
      "outputs": []
    },
    {
      "cell_type": "markdown",
      "metadata": {
        "id": "XvVUnTmy0WbN",
        "colab_type": "text"
      },
      "source": [
        "## Importing the model"
      ]
    },
    {
      "cell_type": "markdown",
      "metadata": {
        "id": "C2yrNBht0WbO",
        "colab_type": "text"
      },
      "source": [
        "Now, we import the model and the metric."
      ]
    },
    {
      "cell_type": "code",
      "metadata": {
        "id": "iNOtsxlH0WbO",
        "colab_type": "code",
        "colab": {}
      },
      "source": [
        "from sklearn.metrics import mean_absolute_error\n",
        "import xgboost as xgb\n",
        "\n",
        "def evalerror(preds, dtrain):\n",
        "    labels = dtrain.get_label()\n",
        "    return 'mae', mean_absolute_error(np.exp(preds), np.exp(labels))"
      ],
      "execution_count": 0,
      "outputs": []
    },
    {
      "cell_type": "markdown",
      "metadata": {
        "id": "XF7876qS0WbR",
        "colab_type": "text"
      },
      "source": [
        "Setting the fine-tuned parameters and learning rate to 0.01"
      ]
    },
    {
      "cell_type": "code",
      "metadata": {
        "id": "J1bgYnzy0WbR",
        "colab_type": "code",
        "colab": {}
      },
      "source": [
        "RANDOM_STATE = 2016\n",
        "params = {\n",
        "        'min_child_weight': 8,\n",
        "        'eta': 0.01,\n",
        "        'colsample_bytree': 0.45,\n",
        "        'max_depth': 6,\n",
        "        'subsample': 1.0,\n",
        "        'alpha': 1,\n",
        "        'gamma': 0,\n",
        "        'silent': 1,\n",
        "        'verbose_eval': True,\n",
        "        'seed': RANDOM_STATE,'verbose_eval': 2}\n",
        "\n"
      ],
      "execution_count": 0,
      "outputs": []
    },
    {
      "cell_type": "markdown",
      "metadata": {
        "id": "peDxENOL0WbU",
        "colab_type": "text"
      },
      "source": [
        "## Training the model"
      ]
    },
    {
      "cell_type": "code",
      "metadata": {
        "id": "5D6ytGie0WbU",
        "colab_type": "code",
        "colab": {}
      },
      "source": [
        "xgtrain = xgb.DMatrix(train_data, label=target)                   #training matrix\n",
        "xgtest = xgb.DMatrix(test_data)                                   #testing matrix\n",
        "model = xgb.train(params, xgtrain, 3000, feval=evalerror)         \n",
        "#3000 is taken intuitely(after seeing the iterations during finetuning)\n",
        "prediction = np.exp(model.predict(xgtest)) - shift"
      ],
      "execution_count": 0,
      "outputs": []
    },
    {
      "cell_type": "markdown",
      "metadata": {
        "id": "3A7SeyLJ0WbX",
        "colab_type": "text"
      },
      "source": [
        "## Finding MAE"
      ]
    },
    {
      "cell_type": "code",
      "metadata": {
        "id": "xJzEFsRo0WbY",
        "colab_type": "code",
        "outputId": "d1bd6315-85a7-4232-dfee-a48f4055d756",
        "colab": {}
      },
      "source": [
        "from sklearn.metrics import mean_absolute_error\n",
        "\n",
        "error = mean_absolute_error(y_true,prediction)\n",
        "\n",
        "print (error)"
      ],
      "execution_count": 0,
      "outputs": [
        {
          "output_type": "stream",
          "text": [
            "1132.54788745\n"
          ],
          "name": "stdout"
        }
      ]
    },
    {
      "cell_type": "markdown",
      "metadata": {
        "id": "Irr9CZ3b0Wbb",
        "colab_type": "text"
      },
      "source": [
        "The fine-tuned XGBoost model gives an score of 1132.54788745. This is beter than the previous XGBoost score."
      ]
    }
  ]
}